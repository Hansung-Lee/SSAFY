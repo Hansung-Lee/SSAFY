{
 "cells": [
  {
   "cell_type": "code",
   "execution_count": 13,
   "metadata": {},
   "outputs": [],
   "source": [
    "from IPython.display import IFrame"
   ]
  },
  {
   "cell_type": "markdown",
   "metadata": {},
   "source": [
    "# OOP with Python\n",
    "\n",
    "## 용어 정리\n",
    "\n",
    "```python\n",
    "class Person:                      #=> 클래스 정의(선언) : 클래스 객체 생성\n",
    "    name = '호날두'                  #=> 멤버 변수(데이터 어트리뷰트)\n",
    "    def greeting(self):            #=> 멤버 메서드(메서드)\n",
    "        print(f'{self.name}')\n",
    "```\n",
    "    \n",
    "    \n",
    "```python\n",
    "iu = Person()       # 인스턴스 객체 생성\n",
    "daniel = Person()   # 인스턴스 객체 생성\n",
    "iu.name             # 데이터 어트리뷰트 호출\n",
    "iu.greeting()       # 메서드 호출\n",
    "```"
   ]
  },
  {
   "cell_type": "code",
   "execution_count": 20,
   "metadata": {},
   "outputs": [
    {
     "name": "stdout",
     "output_type": "stream",
     "text": [
      "인간\n",
      "호날두\n",
      "인간\n",
      "아이유\n"
     ]
    }
   ],
   "source": [
    "class Person:                   \n",
    "    species = '인간' # 클래스 변수 : 클래스 내의 모든 인스턴스가 공유하고 있는 속성\n",
    "    \n",
    "    def __init__(self, name):\n",
    "        self.name = name  # 인스턴스 변수 : 각각의 인스턴스(객체)가 독립적으로 가진 속성\n",
    "    \n",
    "    def greeting(self):         \n",
    "        print(f'{self.name}')\n",
    "\n",
    "        \n",
    "cr = Person(\"호날두\")        \n",
    "iu = Person(\"아이유\")\n",
    "\n",
    "print(cr.species)\n",
    "print(cr.name)\n",
    "\n",
    "print(iu.species)\n",
    "print(iu.name)"
   ]
  },
  {
   "cell_type": "markdown",
   "metadata": {},
   "source": [
    "* 클래스와 인스턴스간의 관계를 확인해봅시다."
   ]
  },
  {
   "cell_type": "code",
   "execution_count": 19,
   "metadata": {},
   "outputs": [
    {
     "name": "stdout",
     "output_type": "stream",
     "text": [
      "True\n",
      "True\n"
     ]
    }
   ],
   "source": [
    "print(isinstance(cr, Person))\n",
    "print(isinstance(iu, Person))"
   ]
  },
  {
   "cell_type": "markdown",
   "metadata": {},
   "source": [
    "##  `self` : 인스턴스 객체 자기자신\n",
    "\n",
    "* C++ 혹은 자바에서의 this 키워드와 동일함. \n",
    "\n",
    "* 특별한 상황을 제외하고는 무조건 메서드에서 `self`를 첫번째 인자로 설정한다.\n",
    "\n",
    "* 메서드는 인스턴스 객체가 함수의 첫번째 인자로 전달되도록 되어있다."
   ]
  },
  {
   "cell_type": "code",
   "execution_count": 6,
   "metadata": {},
   "outputs": [
    {
     "name": "stdout",
     "output_type": "stream",
     "text": [
      "아이유\n",
      "호날두\n"
     ]
    }
   ],
   "source": [
    "# iu를 다시 인사시켜봅시다.\n",
    "iu.greeting()\n",
    "cr.greeting()"
   ]
  },
  {
   "cell_type": "code",
   "execution_count": 17,
   "metadata": {},
   "outputs": [
    {
     "name": "stdout",
     "output_type": "stream",
     "text": [
      "아이유\n",
      "인간\n"
     ]
    }
   ],
   "source": [
    "# 다르게 인사를 시킬 수도 있습니다.\n",
    "# 실제로 이렇게 호출이 되는 것과 동일하기에 반드시 self로서 인스턴스 자기자신을 표현해야합니다.\n",
    "Person.greeting(iu)\n",
    "\n",
    "print(Person.species) # Person이라는 공간에 있는 species라는 변수의 값을 확인할래\n"
   ]
  },
  {
   "cell_type": "markdown",
   "metadata": {},
   "source": [
    "* 클래스 선언부 내부에서도 반드시 self를 통해 데이터 어트리뷰트에 접근 해야 합니다."
   ]
  },
  {
   "cell_type": "code",
   "execution_count": 2,
   "metadata": {},
   "outputs": [],
   "source": [
    "# 예시를 봅시다.\n",
    "name = '?'\n",
    "\n",
    "class Person:\n",
    "    name = '호날두'\n",
    "    \n",
    "    def greeting1(self):\n",
    "        print(f'{name}')\n",
    "        \n",
    "    def greeting2(self):\n",
    "        print(f'{self.name}')"
   ]
  },
  {
   "cell_type": "code",
   "execution_count": 3,
   "metadata": {},
   "outputs": [
    {
     "name": "stdout",
     "output_type": "stream",
     "text": [
      "?\n",
      "호날두\n"
     ]
    }
   ],
   "source": [
    "cr = Person()\n",
    "cr.greeting1()\n",
    "cr.greeting2()"
   ]
  },
  {
   "cell_type": "code",
   "execution_count": 53,
   "metadata": {},
   "outputs": [],
   "source": [
    "class Person:\n",
    "    species = '인간'\n",
    "    population = 0\n",
    "    \n",
    "    def __init__(self, name):\n",
    "        self.name = name\n",
    "        self.population += 1 # 인스턴스 변수를 생성한 것 처럼 만듬\n",
    "        Person.population += 1 # 클래스 변수를 접근하여 변경\n",
    "    \n",
    "    def greeting(self):\n",
    "        print(f'{self.name}')\n",
    "        print(f'{self.species}')"
   ]
  },
  {
   "cell_type": "code",
   "execution_count": 54,
   "metadata": {},
   "outputs": [
    {
     "name": "stdout",
     "output_type": "stream",
     "text": [
      "호날두\n",
      "인간\n",
      "2\n",
      "3\n",
      "13\n",
      "7\n"
     ]
    }
   ],
   "source": [
    "cr = Person(\"호날두\")\n",
    "me = Person(\"나\")\n",
    "you = Person(\"너\")\n",
    "\n",
    "cr.greeting()\n",
    "\n",
    "print(me.population)\n",
    "print(Person.population)\n",
    "\n",
    "me.population +=5\n",
    "Person.population +=10\n",
    "\n",
    "print(Person.population)\n",
    "print(me.population)"
   ]
  },
  {
   "cell_type": "markdown",
   "metadata": {},
   "source": [
    "## 클래스-인스턴스간의 이름공간\n",
    "\n",
    "* 클래스를 정의하면, 클래스 객체가 생성되고 해당되는 이름 공간이 생성된다. \n",
    "\n",
    "* 인스턴스를 만들게 되면, 인스턴스 객체가 생성되고 해당되는 이름 공간이 생성된다. \n",
    "\n",
    "* 인스턴스의 어트리뷰트가 변경되면, 변경된 데이터를 인스턴스 객체 이름 공간에 저장한다.\n",
    "\n",
    "* 즉, 인스턴스에서 특정한 어트리뷰트에 접근하게 되면 인스턴스 -> 클래스 순으로 탐색을 한다."
   ]
  },
  {
   "cell_type": "code",
   "execution_count": null,
   "metadata": {},
   "outputs": [],
   "source": []
  },
  {
   "cell_type": "code",
   "execution_count": null,
   "metadata": {},
   "outputs": [],
   "source": [
    "# 아래의 Python Tutor를 통해 순차적으로 확인해봅시다.\n",
    "IFrame('https://goo.gl/ZgNaXB', width='100%', height='300px')"
   ]
  },
  {
   "cell_type": "markdown",
   "metadata": {},
   "source": [
    "## 생성자 / 소멸자\n",
    "\n",
    "* 생성자는 인스턴스 객체가 생성될 때 호출되는 함수이며, 소멸자는 객체가 소멸되는 과정에서 호출되는 함수입니다.\n",
    "\n",
    "```python\n",
    "def __init__(self):\n",
    "    print('생성될 때 자동으로 호출되는 메서드입니다.')\n",
    "    \n",
    "def __del__(self):\n",
    "    print('소멸될 때 자동으로 호출되는 메서드입니다.')\n",
    "```\n",
    "\n",
    "```\n",
    "__someting__\n",
    "```\n",
    "\n",
    "위의 형식처럼 양쪽에 언더스코어가 있는 메서드를 스페셜 메서드 혹은 매직 메서드라고 불립니다."
   ]
  },
  {
   "cell_type": "code",
   "execution_count": 65,
   "metadata": {},
   "outputs": [],
   "source": [
    "class Moosang:\n",
    "    def __init__(self):\n",
    "        print(\"저는 생성자 입니다.\")\n",
    "        \n",
    "    def __del__(self):\n",
    "        print(\"저는 소멸자 입니다.\")"
   ]
  },
  {
   "cell_type": "code",
   "execution_count": 66,
   "metadata": {},
   "outputs": [
    {
     "name": "stdout",
     "output_type": "stream",
     "text": [
      "저는 생성자 입니다.\n",
      "저는 생성자 입니다.\n"
     ]
    }
   ],
   "source": [
    "#  생성시켜봅시다.\n",
    "life = Moosang()\n",
    "study = Moosang()"
   ]
  },
  {
   "cell_type": "code",
   "execution_count": 67,
   "metadata": {},
   "outputs": [
    {
     "name": "stdout",
     "output_type": "stream",
     "text": [
      "저는 소멸자 입니다.\n",
      "저는 소멸자 입니다.\n"
     ]
    }
   ],
   "source": [
    "# 소멸시켜봅시다.\n",
    "del life\n",
    "del study"
   ]
  },
  {
   "cell_type": "markdown",
   "metadata": {},
   "source": [
    "* 생성자 역시 메소드이기 때문에 추가적인 인자를 받을 수 있습니다."
   ]
  },
  {
   "cell_type": "code",
   "execution_count": 69,
   "metadata": {},
   "outputs": [],
   "source": [
    "# 생성자에서 이름을 추가적으로 받아서 출력해봅시다.\n",
    "class Person:\n",
    "    def __init__(self, name):\n",
    "        print(\"사람이 생성되었습니다.\")\n",
    "        self.name = name\n",
    "        \n",
    "    def __del__(self):\n",
    "        print(\"사람이 소멸되었습니다.\")"
   ]
  },
  {
   "cell_type": "code",
   "execution_count": 70,
   "metadata": {},
   "outputs": [
    {
     "name": "stdout",
     "output_type": "stream",
     "text": [
      "사람이 생성되었습니다.\n",
      "사람이 생성되었습니다.\n",
      "사람이 소멸되었습니다.\n"
     ]
    }
   ],
   "source": [
    "# 홍길동이라는 이름을 가진 hong 을 만들어봅시다.\n",
    "cr = Person(\"호날두\")\n",
    "cr = Person(\"우리형\")"
   ]
  },
  {
   "cell_type": "markdown",
   "metadata": {},
   "source": [
    "* 아래와 같이 모두 사용할 수 있습니다!\n",
    "\n",
    "```python\n",
    "def __init__(self, parameter1, parameter2):\n",
    "    print('생성될 때 자동으로 호출되는 메서드입니다.')\n",
    "    print(parameter1)\n",
    "\n",
    "def __init__(self, *args):\n",
    "    print('생성될 때 자동으로 호출되는 메서드입니다.')\n",
    "\n",
    "def __init__(self, **kwagrs):\n",
    "    print('생성될 때 자동으로 호출되는 메서드입니다.')\n",
    "```"
   ]
  },
  {
   "cell_type": "markdown",
   "metadata": {},
   "source": [
    "* 따라서, 생성자는 값을 초기화하는 과정에서 자주 활용됩니다. \n",
    "\n",
    "* 아래의 클래스 변수와 인스턴스 변수를 통해 확인해보겠습니다."
   ]
  },
  {
   "cell_type": "markdown",
   "metadata": {},
   "source": [
    "## 클래스 변수 / 인스턴스 변수\n",
    "\n",
    "```python\n",
    "class Person:\n",
    "    population = 0              # 클래스 변수 : 모든 인스턴스가 공유함.\n",
    "    \n",
    "    def __init__(self, name):   \n",
    "        self.name = name        # 인스턴스 변수 : 인스턴스별로 각각 가지는 변수\n",
    "```        "
   ]
  },
  {
   "cell_type": "code",
   "execution_count": 85,
   "metadata": {},
   "outputs": [
    {
     "name": "stdout",
     "output_type": "stream",
     "text": [
      "생성될 때 자동으로 호출되는 메서드입니다.\n",
      "인구가 증가하여 1명이 되었습니다.\n",
      "소멸될 때 자동으로 호출되는 메서드입니다.\n",
      "인구가 감소하여 0명이 되었습니다.\n"
     ]
    },
    {
     "data": {
      "text/plain": [
       "'no name'"
      ]
     },
     "execution_count": 85,
     "metadata": {},
     "output_type": "execute_result"
    }
   ],
   "source": [
    "# 위의 생성자와 인사하는 메소드를 만들어봅시다. \n",
    "class Person:\n",
    "    name = \"john\"            # 클래스 변수 : 모든 인스턴스가 공유함.\n",
    "    population = 0\n",
    "\n",
    "    def __init__(self, name=\"no name\"):   \n",
    "        # 인스턴스 변수 : 인스턴스별로 각각 가지는 변수\n",
    "        print('생성될 때 자동으로 호출되는 메서드입니다.')\n",
    "        self.name = name\n",
    "        Person.population += 1\n",
    "        print(f'인구가 증가하여 {Person.population}명이 되었습니다.')\n",
    "        \n",
    "    def __del__(self):\n",
    "        print('소멸될 때 자동으로 호출되는 메서드입니다.')\n",
    "        Person.population -= 1\n",
    "        print(f'인구가 감소하여 {Person.population}명이 되었습니다.')\n",
    "        \n",
    "    def greeting(self):\n",
    "        print(f'{self.name}')\n",
    "        \n",
    "john = Person()\n",
    "john.name"
   ]
  },
  {
   "cell_type": "code",
   "execution_count": 87,
   "metadata": {},
   "outputs": [
    {
     "name": "stdout",
     "output_type": "stream",
     "text": [
      "생성될 때 자동으로 호출되는 메서드입니다.\n",
      "인구가 증가하여 1명이 되었습니다.\n",
      "소멸될 때 자동으로 호출되는 메서드입니다.\n",
      "인구가 감소하여 0명이 되었습니다.\n"
     ]
    }
   ],
   "source": [
    "# 본인의 이름을 가진 인스턴스를 만들어봅시다.\n",
    "john = Person(\"john\")"
   ]
  },
  {
   "cell_type": "code",
   "execution_count": 92,
   "metadata": {},
   "outputs": [
    {
     "name": "stdout",
     "output_type": "stream",
     "text": [
      "john\n",
      "john\n"
     ]
    }
   ],
   "source": [
    "# 이름을 출력해봅시다.\n",
    "print(john.name)\n",
    "john.greeting()"
   ]
  },
  {
   "cell_type": "code",
   "execution_count": null,
   "metadata": {},
   "outputs": [],
   "source": [
    "# 옆자리 친구의 이름을 가진 인스턴스를 만들어봅시다.\n"
   ]
  },
  {
   "cell_type": "code",
   "execution_count": null,
   "metadata": {},
   "outputs": [],
   "source": [
    "# 이름을 출력해봅시다.\n"
   ]
  },
  {
   "cell_type": "code",
   "execution_count": null,
   "metadata": {},
   "outputs": [],
   "source": [
    "# population을 출력해봅시다.\n"
   ]
  },
  {
   "cell_type": "code",
   "execution_count": null,
   "metadata": {},
   "outputs": [],
   "source": [
    "# 물론, 인스턴스도 접근 가능합니다. 왜일까요?!\n",
    "\n",
    "# 이름공간"
   ]
  },
  {
   "cell_type": "markdown",
   "metadata": {},
   "source": [
    "## 정적 메서드 / 클래스 메서드\n",
    "\n",
    "* 메서드 호출을 인스턴스가 아닌 클래스가 할 수 있도록 구성할 수 있습니다. \n",
    "\n",
    "* 이때 활용되는게 정적 메서드 혹은 클래스 메서드입니다.\n",
    "\n",
    "* 정적 메소드는 객체가 전달되지 않은 형태이며, 클래스 메서드는 인자로 클래스를 넘겨준다."
   ]
  },
  {
   "cell_type": "code",
   "execution_count": 95,
   "metadata": {
    "scrolled": true
   },
   "outputs": [
    {
     "name": "stdout",
     "output_type": "stream",
     "text": [
      "john\n"
     ]
    }
   ],
   "source": [
    "# Person 클래스가 인사할 수 있는지 확인해보겠습니다.\n",
    "# Person.greeting() <= TypeError 오류\n",
    "Person.greeting(john)"
   ]
  },
  {
   "cell_type": "code",
   "execution_count": 254,
   "metadata": {},
   "outputs": [],
   "source": [
    "# 이번에는 Dog class를 만들어보겠습니다.\n",
    "# 클래스 변수 num_of_dogs 통해 개가 생성될 때마다 증가시키도록 하겠습니다. \n",
    "# 개들은 각자의 이름과 나이를 가지고 있습니다. \n",
    "# 그리고 bark() 메서드를 통해 짖을 수 있습니다. \n",
    "\n",
    "class Dog:\n",
    "    num_of_dogs = 0\n",
    "    \n",
    "    def __init__(self, name, age):\n",
    "        self.name = name\n",
    "        self.age = age\n",
    "        Dog.num_of_dogs += 1\n",
    "        \n",
    "    def __del__(self):\n",
    "        Dog.num_of_dogs -= 1\n",
    "        \n",
    "    def bark(self):\n",
    "        print(f\"멍멍, 저는 {self.name}, {self.age}살 입니다.\")\n",
    "        \n",
    "    @staticmethod\n",
    "    def info(): # self를 넣지 않은 메소드는 어떻게 동작할까?\n",
    "        print (\"강아지입니다.\")"
   ]
  },
  {
   "cell_type": "code",
   "execution_count": 256,
   "metadata": {},
   "outputs": [
    {
     "name": "stdout",
     "output_type": "stream",
     "text": [
      "0\n",
      "멍멍, 저는 누렁이, 5살 입니다.\n",
      "강아지입니다.\n",
      "강아지입니다.\n"
     ]
    }
   ],
   "source": [
    "# 각각 이름과 나이가 다른 인스턴스를 3개 만들어봅시다.\n",
    "puppy = Dog('멍멍이', 1)\n",
    "poodle = Dog('보송이', 3)\n",
    "nurung = Dog('누렁이', 5)\n",
    "\n",
    "print(Dog.num_of_dogs)\n",
    "\n",
    "nurung.bark()\n",
    "\n",
    "nurung.info() # <= @staticmethod가 없으면 TypeError 오류\n",
    "Dog.info()"
   ]
  },
  {
   "cell_type": "markdown",
   "metadata": {},
   "source": [
    "* staticmethod는 다음과 같이 정의됩니다.\n",
    "\n",
    "```python\n",
    "\n",
    "@staticmethod\n",
    "def methodname():\n",
    "    codeblock\n",
    "```"
   ]
  },
  {
   "cell_type": "code",
   "execution_count": null,
   "metadata": {},
   "outputs": [],
   "source": [
    "# 단순한 static method를 만들어보겠습니다.\n"
   ]
  },
  {
   "cell_type": "code",
   "execution_count": null,
   "metadata": {},
   "outputs": [],
   "source": [
    "# 3마리를 만들어보고,\n"
   ]
  },
  {
   "cell_type": "markdown",
   "metadata": {},
   "source": [
    "## 인스턴스 메소드\n",
    "첫번째 인자로 **인스턴스**를 받는 메소드\n",
    "\n",
    "``` python\n",
    "class Person:\n",
    "    # 인스턴스 메소드\n",
    "    def greeting(self):\n",
    "```  \n",
    "  \n",
    "\n",
    "## 클래스 메소드\n",
    "첫번째 인자로 **클래스**를 받는 메소드\n",
    "\n",
    "``` python\n",
    "class Person:\n",
    "    # 클래스 메소드\n",
    "    @classmethod\n",
    "    def greeting(cls):\n",
    "```\n",
    "\n",
    "## 스태틱(정적) 메소드\n",
    "인자를 받지 않는 메소드\n",
    "\n",
    "``` python\n",
    "class Person:\n",
    "    # 스태틱 메소드\n",
    "    @staticmethod\n",
    "    def greeting():\n",
    "```"
   ]
  },
  {
   "cell_type": "markdown",
   "metadata": {},
   "source": [
    "* classmethod는 다음과 같이 정의됩니다.\n",
    "\n",
    "```python\n",
    "\n",
    "@classmethod\n",
    "def methodname(cls):\n",
    "    codeblock\n",
    "```"
   ]
  },
  {
   "cell_type": "code",
   "execution_count": 250,
   "metadata": {},
   "outputs": [],
   "source": [
    "# 개의 숫자를 출력하는 classmethod를 만들어보겠습니다.\n",
    "class Dog:\n",
    "    num_of_dogs = 0\n",
    "    \n",
    "    def __init__(self, name, age):\n",
    "        self.name = name\n",
    "        self.age = age\n",
    "        Dog.num_of_dogs += 1\n",
    "        \n",
    "    def __del__(self):\n",
    "        Dog.num_of_dogs -= 1\n",
    "        \n",
    "    def bark(self):\n",
    "        print(f\"멍멍, 저는 {self.name}, {self.age}살 입니다.\")\n",
    "        \n",
    "    @classmethod\n",
    "    def count(cls): # 첫번째 인자로 클래스를 넣어준다.\n",
    "        print (f\"{cls.num_of_dogs}마리 생존중\")"
   ]
  },
  {
   "cell_type": "code",
   "execution_count": 253,
   "metadata": {},
   "outputs": [
    {
     "name": "stdout",
     "output_type": "stream",
     "text": [
      "3마리 생존중\n"
     ]
    }
   ],
   "source": [
    "# 3마리를 만들어보고,\n",
    "puppy = Dog('멍멍이', 1)\n",
    "poodle = Dog('보송이', 3)\n",
    "nurung = Dog('누렁이', 5)\n",
    "\n",
    "Dog.count()"
   ]
  },
  {
   "cell_type": "code",
   "execution_count": null,
   "metadata": {
    "scrolled": true
   },
   "outputs": [],
   "source": []
  },
  {
   "cell_type": "markdown",
   "metadata": {},
   "source": [
    "## 실습문제 - 정적 메소드\n",
    "\n",
    "> 계산기 class인 `Calculator`를 만들어봅시다.\n",
    "\n",
    "* 정적 메소드 : 두 수를 받아서 각각의 연산을 한 결과를 반환(return)\n",
    "\n",
    "    1. `add()` : 덧셈\n",
    "    \n",
    "    2. `sub()` : 뺄셈 \n",
    "    \n",
    "    3. `mul()` : 곱셈\n",
    "    \n",
    "    4. `div()` : 나눗셈\n"
   ]
  },
  {
   "cell_type": "code",
   "execution_count": 257,
   "metadata": {},
   "outputs": [],
   "source": [
    "# 아래에 코드를 작성해주세요.\n",
    "class Calculator:\n",
    "    \n",
    "    def add(a, b):\n",
    "        return a + b\n",
    "    \n",
    "    @staticmethod\n",
    "    def sub(a, b):\n",
    "        return a - b"
   ]
  },
  {
   "cell_type": "code",
   "execution_count": 260,
   "metadata": {},
   "outputs": [
    {
     "data": {
      "text/plain": [
       "2"
      ]
     },
     "execution_count": 260,
     "metadata": {},
     "output_type": "execute_result"
    }
   ],
   "source": [
    "Calculator.add(5, 3)\n",
    "Calculator.sub(5, 3)\n",
    "\n",
    "cal = Calculator()\n",
    "cal.sub(5, 3)\n",
    "# cal.add(5, 3) # <= @staticmethod 선언을 안해줘서 첫번째 인자로 cal 인스턴스가 넘어가기 때문에 에러"
   ]
  },
  {
   "cell_type": "markdown",
   "metadata": {},
   "source": [
    "## 실습문제 - 종합1\n",
    "\n",
    "> 사실 이전에 작성한 Mylist는 완벽하지 않았습니다. \n",
    ">\n",
    "> 한번 제대로 된 자료구조를 만들어보겠습니다. \n",
    ">\n",
    "> `Stack` 클래스를 간략하게 구현해봅시다.\n",
    "\n",
    "> [Stack](https://ko.wikipedia.org/wiki/%EC%8A%A4%ED%83%9D) : 스택은 LIFO(Last in First Out)으로 구조화된 자료구조를 뜻합니다.\n",
    "\n",
    "1. `empty()`: 스택이 비었다면 참을 주고,그렇지 않다면 거짓이 된다.\n",
    "\n",
    "2. `top()`: 스택의 가장 마지막 데이터를 넘겨준다. 스택이 비었다면 None을 리턴해주세요.\n",
    "\n",
    "3. `pop()`: 스택의 가장 마지막 데이터의 값을 넘겨주고 해당 데이터를 삭제한다. 스택이 비었다면 None을 리턴해주세요.\n",
    "\n",
    "4. `push()`: 스택의 가장 마지막 데이터 뒤에 값을 추가한다. 리턴값 없음\n",
    "\n",
    "**다 완료하신 분들은 __repr__을 통해 예쁘게 출력까지 해봅시다.**"
   ]
  },
  {
   "cell_type": "code",
   "execution_count": 262,
   "metadata": {},
   "outputs": [],
   "source": [
    "# 여기에 코드를 작성해주세요.\n",
    "class Stack:\n",
    "    li_stack = []\n",
    "\n",
    "    def push(self, data):\n",
    "        li_stack.append(data)\n",
    "        \n",
    "    def pop(self):\n",
    "        if li_stack:\n",
    "            print(li_stack[-1])\n",
    "            del li_stack[-1]\n",
    "        else:\n",
    "            print('Stack undefflow')\n",
    "            \n",
    "    def size(self):\n",
    "        print(len(li_stack))\n",
    "        \n",
    "    def empty(self):\n",
    "        if li_stack:\n",
    "            print(False)\n",
    "        else:\n",
    "            print(True)\n",
    "    def top(self):\n",
    "        if li_stack:\n",
    "            print(li_stack[-1])\n",
    "        else:\n",
    "            print('Stack undefflow')\n",
    "\n",
    "    def __repr__(self):\n",
    "        return "
   ]
  },
  {
   "cell_type": "code",
   "execution_count": null,
   "metadata": {},
   "outputs": [],
   "source": [
    "# 인스턴스를 하나 만들고 메소드 조작을 해봅시다.\n"
   ]
  },
  {
   "cell_type": "code",
   "execution_count": null,
   "metadata": {},
   "outputs": [],
   "source": []
  },
  {
   "cell_type": "code",
   "execution_count": null,
   "metadata": {},
   "outputs": [],
   "source": []
  },
  {
   "cell_type": "code",
   "execution_count": null,
   "metadata": {},
   "outputs": [],
   "source": []
  },
  {
   "cell_type": "markdown",
   "metadata": {},
   "source": [
    "## 연산자 오버라이딩(중복 정의)\n",
    "\n",
    "* 파이썬에 기본적으로 정의된 연산자를 직접적으로 정의하여 활용할 수 있습니다. \n",
    "\n",
    "* 몇가지만 소개하고 활용해봅시다.\n",
    "\n",
    "```\n",
    "+  __add__   \n",
    "-  __sub__\n",
    "*  __mul__\n",
    "<  __lt__\n",
    "<= __le__\n",
    "== __eq__\n",
    "!= __ne__\n",
    ">= __ge__\n",
    ">  __gt__\n",
    "```"
   ]
  },
  {
   "cell_type": "code",
   "execution_count": 265,
   "metadata": {},
   "outputs": [
    {
     "name": "stdout",
     "output_type": "stream",
     "text": [
      "False\n",
      "False\n"
     ]
    }
   ],
   "source": [
    "# 사람과 사람을 같은지 비교하면, 이는 나이가 같은지 비교한 결과를 반환하도록 만들어봅시다.\n",
    "class Person:\n",
    "    def __init__(self, name, age, asset, height, gpa):\n",
    "        self.name = name\n",
    "        self.age = age\n",
    "        self.asset = asset\n",
    "        self.height = height\n",
    "        self.gpa = gpa\n",
    "        \n",
    "    def __gt__(self, obj):\n",
    "        if self.age > obj.age:\n",
    "            return True\n",
    "        else:\n",
    "            return False\n",
    "        \n",
    "man = Person('Bogum', 28, 700000, 178, 4.2)\n",
    "woman = Person('Hyegyo', 38, 700000000, 165, 3.8)\n",
    "\n",
    "print(man > woman) # 둘은 같다\n",
    "print(man.__gt__(woman)) # 둘은 같다\n",
    "\n"
   ]
  },
  {
   "cell_type": "code",
   "execution_count": null,
   "metadata": {},
   "outputs": [],
   "source": [
    "# 연산자를 호출해봅시다.\n"
   ]
  },
  {
   "cell_type": "code",
   "execution_count": null,
   "metadata": {},
   "outputs": [],
   "source": [
    "# 원하는 연산자를 사람과 사람을 비교해보세요."
   ]
  },
  {
   "cell_type": "code",
   "execution_count": null,
   "metadata": {},
   "outputs": [],
   "source": [
    "# 파이썬 내부를 살펴봅시다.\n",
    "\n",
    "# 이렇게 + 연산자가 서로 다르게 활용될 수 있는 이유는 파이썬 내부적으로 각각 다른 클래스마다 다른 정의가 있기 때문입니다."
   ]
  },
  {
   "cell_type": "markdown",
   "metadata": {},
   "source": [
    "# 상속 \n",
    "\n",
    "## 기초\n",
    "\n",
    "* 클래스에서 가장 큰 특징은 '상속' 기능을 가지고 있다는 것이다. \n",
    "\n",
    "* 부모 클래스의 모든 속성이 자식 클래스에게 상속 되므로 코드재사용성이 높아집니다.\n",
    "\n",
    "```python\n",
    "class DerivedClassName(BaseClassName):\n",
    "    code block\n",
    "```"
   ]
  },
  {
   "cell_type": "code",
   "execution_count": 283,
   "metadata": {},
   "outputs": [],
   "source": [
    "# 인사만 할 수 있는 간단한 사람 클래스를 만들어봅시다.\n",
    "class User:\n",
    "    def __init__(self, name):\n",
    "        self.name = name\n",
    "        \n",
    "    def create_post(self, title, content):\n",
    "        print(f\"{self.name}님이 {title}라는 제목의 {content}을 작성하였습니다.\")\n",
    "        \n",
    "class AdminUser(User):\n",
    "    def delete_post(self):\n",
    "        print(\"글을 삭제했습니다.\")\n",
    "        \n",
    "class SuperAdminUser(AdminUser):\n",
    "    def create_post(self, title, content):\n",
    "        print(f\"{self.name}님이 {content}를 공지하였습니다.\")\n",
    "    \n",
    "    def delete_user(self):\n",
    "        print(\"유저를 삭제했습니다.\")"
   ]
  },
  {
   "cell_type": "code",
   "execution_count": 284,
   "metadata": {},
   "outputs": [
    {
     "name": "stdout",
     "output_type": "stream",
     "text": [
      "john님이 하핳헤라는 제목의 내 첫번째 글을 작성하였습니다.\n",
      "운영자님이 A라는 제목의 A을 작성하였습니다.\n",
      "글을 삭제했습니다.\n",
      "관리자님이 모두 들어라을 공지하였습니다.\n",
      "유저를 삭제했습니다.\n"
     ]
    }
   ],
   "source": [
    "# 사람 클래스를 상속받아 학생 클래스를 만들어봅시다.\n",
    "user1 = User('john')\n",
    "user1.create_post('하핳헤', '내 첫번째 글')\n",
    "\n",
    "user2 = AdminUser('운영자')\n",
    "user2.create_post('A', 'A')\n",
    "user2.delete_post()\n",
    "\n",
    "user3 = SuperAdminUser('관리자')\n",
    "user3.create_post('공지', '모두 들어라')\n",
    "user3.delete_user()"
   ]
  },
  {
   "cell_type": "code",
   "execution_count": null,
   "metadata": {},
   "outputs": [],
   "source": [
    "# 학생을 만들어봅시다.\n"
   ]
  },
  {
   "cell_type": "code",
   "execution_count": null,
   "metadata": {},
   "outputs": [],
   "source": [
    "# 부모 클래스에 정의를 했음에도 메소드를 호출 할 수 있습니다.\n"
   ]
  },
  {
   "cell_type": "markdown",
   "metadata": {},
   "source": [
    "* 이처럼 상속은 공통된 속성이나 메소드를 부모 클래스에 정의하고, 이를 상속받아 다양한 형태의 사람들을 만들 수 있습니다."
   ]
  },
  {
   "cell_type": "code",
   "execution_count": 287,
   "metadata": {},
   "outputs": [
    {
     "data": {
      "text/plain": [
       "True"
      ]
     },
     "execution_count": 287,
     "metadata": {},
     "output_type": "execute_result"
    }
   ],
   "source": [
    "# 진짜 상속관계인지 확인해봅시다.\n",
    "# issubclass(자식 클래스, 부모 클래스)\n",
    "issubclass(SuperAdminUser, User)"
   ]
  },
  {
   "cell_type": "code",
   "execution_count": null,
   "metadata": {},
   "outputs": [],
   "source": []
  },
  {
   "cell_type": "markdown",
   "metadata": {},
   "source": [
    "## super()\n",
    "\n",
    "* 자식 클래스에 메서드를 추가 구현할 수 있습니다.\n",
    "\n",
    "* 부모 클래스의 내용을 사용하고자 할 때, `super()`를 사용할 수 있습니다."
   ]
  },
  {
   "cell_type": "code",
   "execution_count": 289,
   "metadata": {},
   "outputs": [],
   "source": [
    "class Person:\n",
    "    def __init__(self, name, age, number, email):\n",
    "        self.name = name\n",
    "        self.age = age\n",
    "        self.number = number\n",
    "        self.email = email \n",
    "        \n",
    "    def greeting(self):\n",
    "        print(f'안녕, {self.name}')\n",
    "        \n",
    "class Student(Person):\n",
    "    def __init__(self, name, age, number, email, student_id):\n",
    "        self.name = name\n",
    "        self.age = age\n",
    "        self.number = number\n",
    "        self.email = email \n",
    "        self.student_id = student_id\n",
    "        \n",
    "p1 = Person('홍길동', 200, '0101231234', 'hong@gildong')\n",
    "s1 = Student('학생', 20, '12312312', 'student@naver.com', '190000')"
   ]
  },
  {
   "cell_type": "markdown",
   "metadata": {},
   "source": [
    "* 위의 코드를 보면, 상속을 했음에도 불구하고 동일한 코드가 반복됩니다. "
   ]
  },
  {
   "cell_type": "code",
   "execution_count": 300,
   "metadata": {},
   "outputs": [
    {
     "data": {
      "text/plain": [
       "'student@naver.com'"
      ]
     },
     "execution_count": 300,
     "metadata": {},
     "output_type": "execute_result"
    }
   ],
   "source": [
    "# 이를 수정해봅시다.\n",
    "class Person:\n",
    "    def __init__(self, name, age, number, email):\n",
    "        self.name = name\n",
    "        self.age = age\n",
    "        self.number = number\n",
    "        self.email = email \n",
    "        \n",
    "    def greeting(self):\n",
    "        print(f'안녕, {self.name}')\n",
    "        \n",
    "class Student(Person):\n",
    "    def __init__(self, name, age, number, email, student_id):\n",
    "        super().__init__(name, age, number, email) \n",
    "        self.student_id = student_id\n",
    "        \n",
    "p1 = Person('홍길동', 200, '0101231234', 'hong@gildong')\n",
    "s1 = Student('학생', 20, '12312312', 'student@naver.com', '190000')\n",
    "\n",
    "s1.email"
   ]
  },
  {
   "cell_type": "markdown",
   "metadata": {},
   "source": [
    "## 메소드 오버라이딩\n",
    "\n",
    "* 메서드를 재정의할 수도 있습니다."
   ]
  },
  {
   "cell_type": "code",
   "execution_count": null,
   "metadata": {},
   "outputs": [],
   "source": [
    "# 학생은 공손하게 이야기를 해봅시다.\n"
   ]
  },
  {
   "cell_type": "code",
   "execution_count": null,
   "metadata": {},
   "outputs": [],
   "source": []
  },
  {
   "cell_type": "markdown",
   "metadata": {},
   "source": [
    "## 상속관계에서의 이름공간\n",
    "\n",
    "* 기존에 인스턴스 -> 클래스순으로 이름 공간을 탐색해나가는 과정에서 상속관계에 있으면 아래와 같이 확장됩니다.\n",
    "\n",
    "* 인스턴스 -> 자식 클래스 -> 부모 클래스 -> 전역"
   ]
  },
  {
   "cell_type": "markdown",
   "metadata": {},
   "source": [
    "## 실습1 \n",
    "\n",
    "> Teacher 클래스를 만들어보고 Student와 Teacher 클래스에 각각 다른 행동의 메소드들을 하나씩 추가해봅시다."
   ]
  },
  {
   "cell_type": "code",
   "execution_count": null,
   "metadata": {},
   "outputs": [],
   "source": [
    "# 아래에 코드를 작성해주세요."
   ]
  },
  {
   "cell_type": "markdown",
   "metadata": {},
   "source": [
    "## 실습2\n",
    "\n",
    "> 사실 사람은 포유류입니다. \n",
    ">\n",
    "> Animal Class를 만들고, Person클래스가 상속받도록 구성해봅시다.\n",
    ">\n",
    "> 변수나, 메소드는 자유롭게 만들어봅시다."
   ]
  },
  {
   "cell_type": "code",
   "execution_count": null,
   "metadata": {},
   "outputs": [],
   "source": [
    "# 아래에 코드를 작성해주세요."
   ]
  }
 ],
 "metadata": {
  "kernelspec": {
   "display_name": "Python 3",
   "language": "python",
   "name": "python3"
  },
  "language_info": {
   "codemirror_mode": {
    "name": "ipython",
    "version": 3
   },
   "file_extension": ".py",
   "mimetype": "text/x-python",
   "name": "python",
   "nbconvert_exporter": "python",
   "pygments_lexer": "ipython3",
   "version": "3.6.7"
  },
  "latex_envs": {
   "LaTeX_envs_menu_present": true,
   "autoclose": false,
   "autocomplete": true,
   "bibliofile": "biblio.bib",
   "cite_by": "apalike",
   "current_citInitial": 1,
   "eqLabelWithNumbers": true,
   "eqNumInitial": 1,
   "hotkeys": {
    "equation": "Ctrl-E",
    "itemize": "Ctrl-I"
   },
   "labels_anchors": false,
   "latex_user_defs": false,
   "report_style_numbering": false,
   "user_envs_cfg": false
  },
  "toc": {
   "base_numbering": 1,
   "nav_menu": {},
   "number_sections": true,
   "sideBar": true,
   "skip_h1_title": false,
   "title_cell": "Table of Contents",
   "title_sidebar": "Contents",
   "toc_cell": false,
   "toc_position": {},
   "toc_section_display": true,
   "toc_window_display": false
  }
 },
 "nbformat": 4,
 "nbformat_minor": 2
}
