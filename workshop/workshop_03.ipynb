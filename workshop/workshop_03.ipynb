{
 "cells": [
  {
   "cell_type": "markdown",
   "metadata": {},
   "source": [
    "# Workshop_03"
   ]
  },
  {
   "cell_type": "markdown",
   "metadata": {},
   "source": [
    "# Problem 1\n",
    "\n",
    "컴퓨터의 운영체제(OS)는 크게 unix 가족들(macOS, iOS, Android, Linux, etc...) 과 windows로 나뉘어 집니다. unix 계열의 컴퓨터들은 거의 동일한 명령어들을 사용하지만, windows 는 독자적인 명령어들을 사용합니다. 아래의 작업들을 수행하고 서로를 비교해 봅시다.\n",
    "* windows cmd 를 열고 dir 이라고 입력한다.\n",
    "* git bash 를 열고 ls 라고 입력한다.\n",
    "* 윈도우 파일탐색기 상에서 [내 PC => 로컬 디스크(C:) => 사용자 => student] 에 있는 파일/폴더 목록을 확인한다."
   ]
  },
  {
   "cell_type": "markdown",
   "metadata": {},
   "source": [
    "# Problem 2\n",
    "\n",
    "git bash 에서 입력한 'ls' 라는 명령어는 unix 계열에서 사용하는 명령어로, 현재 위치한 폴더 내부의 파일/폴더들의 목록(list)을 출력하는 명령어 입니다. 하지만 windows 에서는 'ls' 라는 명령어가 없습니다. cmd에서 확인해 봅시다."
   ]
  },
  {
   "cell_type": "markdown",
   "metadata": {},
   "source": [
    "# Problem 3\n",
    "\n",
    "개발자라면 unix 계열 운영체제를 사용할 일이 더 많고, 우리 역시 그렇습니다. 때문에 상대적으로 unix 명령어와 더 친숙해지기 마련입니다. git bash 는 이런 개발자들을 위해, windows 컴퓨터를 조작할 때, 원래는 존재하지 않는 unix 명령어들을 사용할 수 있게 도와주는 Shell 입니다.(bash => Bourne Again SHell). 하지만 완전하게 대체하지는 못합니다.  \n",
    "unix 에서 매뉴얼(manual)을 보여주는 명령어 'man' 이 대표적으로 git bash 가 지원하지 않는 명령어입니다. 확인해 봅시다."
   ]
  },
  {
   "cell_type": "markdown",
   "metadata": {},
   "source": [
    "# Problem 4\n",
    "\n",
    "하지만 가장 빈번하게 쓰이는 명령어 들은 훌륭하게 지원합니다! 지금부터 살펴보도록 하겠습니다.\n",
    "\n",
    "```\n",
    "ls : unix 에서 현재 위치의 폴더에서 목록(list)을 출력합니다.\n",
    "\n",
    "cd : unix 에서 특정 폴더(디렉토리)로 이동하는 명령어입니다.\n",
    "\n",
    "mkdir, touch : mkdir 은 폴더를, touch 는 파일을 생성합니다!\n",
    "```"
   ]
  }
 ],
 "metadata": {
  "kernelspec": {
   "display_name": "Python 3",
   "language": "python",
   "name": "python3"
  },
  "language_info": {
   "codemirror_mode": {
    "name": "ipython",
    "version": 3
   },
   "file_extension": ".py",
   "mimetype": "text/x-python",
   "name": "python",
   "nbconvert_exporter": "python",
   "pygments_lexer": "ipython3",
   "version": "3.6.7"
  }
 },
 "nbformat": 4,
 "nbformat_minor": 2
}
