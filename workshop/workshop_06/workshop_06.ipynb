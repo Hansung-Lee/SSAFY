{
 "cells": [
  {
   "cell_type": "markdown",
   "metadata": {},
   "source": [
    "# Workshop_06"
   ]
  },
  {
   "attachments": {},
   "cell_type": "markdown",
   "metadata": {},
   "source": [
    "# Problem 1\n",
    "\n",
    "양의 정수 x를 입력 받아 제곱근의 근사값의 결과를 반환하는 함수를 작성하세요.\n",
    "\n",
    "sqrt() 사용 금지\n",
    "\n",
    "![image](https://user-images.githubusercontent.com/30791915/51462968-51299600-1da5-11e9-9cef-62e1f47045d3.png)"
   ]
  },
  {
   "cell_type": "code",
   "execution_count": 1,
   "metadata": {},
   "outputs": [
    {
     "name": "stdout",
     "output_type": "stream",
     "text": [
      "1.4141845703125 < 루트 2 < 1.41424560546875\n"
     ]
    }
   ],
   "source": [
    "# 정답\n",
    "def bisection(num):\n",
    "    a = 1\n",
    "    b = num\n",
    "    c = 0\n",
    "    \n",
    "    while (b-a)>0.0001:\n",
    "        c = (a+b)/2\n",
    "        if c**2<num:\n",
    "            a = c\n",
    "        else:\n",
    "            b = c\n",
    "    \n",
    "    return f'{a} < 루트 {num} < {b}'\n",
    "    \n",
    "    \n",
    "\n",
    "print(bisection(2))"
   ]
  }
 ],
 "metadata": {
  "kernelspec": {
   "display_name": "Python 3",
   "language": "python",
   "name": "python3"
  },
  "language_info": {
   "codemirror_mode": {
    "name": "ipython",
    "version": 3
   },
   "file_extension": ".py",
   "mimetype": "text/x-python",
   "name": "python",
   "nbconvert_exporter": "python",
   "pygments_lexer": "ipython3",
   "version": "3.6.7"
  }
 },
 "nbformat": 4,
 "nbformat_minor": 2
}
