{
 "cells": [
  {
   "cell_type": "markdown",
   "metadata": {},
   "source": [
    "## Function-Problems1"
   ]
  },
  {
   "cell_type": "markdown",
   "metadata": {},
   "source": [
    "### 문제1\n",
    ">모든 인수의 합계를 반환하는 함수를 만드세요. 입력 값은 함수에 대한 매개 변수로 인덱스와\n",
    "함께 점차 증가합니다. (첫번째 인덱스는 1부터 시작합니다)"
   ]
  },
  {
   "cell_type": "code",
   "execution_count": null,
   "metadata": {},
   "outputs": [],
   "source": [
    "# 예시 1\n",
    "add(3, 4, 5) # returns (3*1)+(4*2)+(5*3)=26\n",
    "\n",
    "# 예시 2\n",
    "add() #=> 0\n",
    "add(1,2,3) #=> 14\n",
    "add(1,4,-5,5) #=> 14\n",
    "\n",
    "\n",
    "# 유의\n",
    "인수가 없으면 0을 반환합니다."
   ]
  },
  {
   "cell_type": "code",
   "execution_count": 7,
   "metadata": {},
   "outputs": [
    {
     "name": "stdout",
     "output_type": "stream",
     "text": [
      "0\n",
      "14\n",
      "14\n"
     ]
    }
   ],
   "source": [
    "#여기에 코드를 작성하세요\n",
    "\n",
    "def my_add(*args):\n",
    "    cnt = 1\n",
    "    sum_args = 0\n",
    "    \n",
    "    for arg in args:\n",
    "        sum_args += cnt*arg\n",
    "        cnt+=1\n",
    "    \n",
    "    return sum_args\n",
    "\n",
    "print(my_add())\n",
    "print(my_add(1,2,3))\n",
    "print(my_add(1,4,-5,5))"
   ]
  },
  {
   "cell_type": "markdown",
   "metadata": {},
   "source": [
    "### 문제2\n",
    "\n",
    ">양을 세는 함수를 만들어 보세요. 예를 들어, 3이라는 숫자가 주어지면 \"1 sheep...2 sheep...3 sheep...\"이라는 문자열을 리턴하면 됩니다.\n",
    "\n",
    "> 항상 '양의 정수' 만을 인수로 받습니다."
   ]
  },
  {
   "cell_type": "code",
   "execution_count": 8,
   "metadata": {},
   "outputs": [
    {
     "name": "stdout",
     "output_type": "stream",
     "text": [
      "1 sheep...2 sheep...3 sheep...\n"
     ]
    }
   ],
   "source": [
    "#여기에 코드를 작성하세요\n",
    "\n",
    "def sheep(num):\n",
    "    result=''\n",
    "    for i in range(1,num+1):\n",
    "        result += f'{i} sheep...'\n",
    "        \n",
    "    return result\n",
    "\n",
    "print(sheep(3))"
   ]
  },
  {
   "cell_type": "markdown",
   "metadata": {},
   "source": [
    "### 문제3\n",
    "\n",
    ">문자열 목록을 필터링하고 친구 이름만 있는 목록을 반환하는 프로그램을 만드세요. 당신의 친구들의 이름은 모두 4개의 글자로 되어 있습니다.\n",
    "\n",
    ">예시\n",
    "- Input = [\"Ryan\", \"Kieran\", \"Jason\", \"Yous\"], Output = [\"Ryan\", \"Yous\"]"
   ]
  },
  {
   "cell_type": "code",
   "execution_count": 9,
   "metadata": {},
   "outputs": [
    {
     "name": "stdout",
     "output_type": "stream",
     "text": [
      "['Ryan', 'Yous']\n"
     ]
    }
   ],
   "source": [
    "#여기에 코드를 작성하세요\n",
    "\n",
    "def friend(li):\n",
    "    result = []\n",
    "    \n",
    "    for l in li:\n",
    "        if len(l)==4:\n",
    "            result.append(l)\n",
    "    \n",
    "    return result\n",
    "\n",
    "li = [\"Ryan\", \"Kieran\", \"Jason\", \"Yous\"]\n",
    "print(friend(li))"
   ]
  },
  {
   "cell_type": "markdown",
   "metadata": {},
   "source": [
    "### 문제4\n",
    "\n",
    ">자릿수가 주어지면 5미만의 숫자를 '0'으로 바꾸고, 5 이상의 숫자는 '1로'바꿔서 문자열로 반환하는 함수를 작성하세요. (단, 함수를 호출할 때 인자는 str 자료형이어야 합니다)\n"
   ]
  },
  {
   "cell_type": "code",
   "execution_count": 11,
   "metadata": {},
   "outputs": [
    {
     "name": "stdout",
     "output_type": "stream",
     "text": [
      "00011\n"
     ]
    }
   ],
   "source": [
    "#여기에 코드를 작성하세요\n",
    "def jari(num):\n",
    "    li = []\n",
    "    \n",
    "    for n in num:\n",
    "        if int(n)<5:\n",
    "            li.append('0')\n",
    "        else:\n",
    "            li.append('1')\n",
    "    \n",
    "    return ''.join(s for s in li)\n",
    "\n",
    "\n",
    "print(jari('12378'))"
   ]
  }
 ],
 "metadata": {
  "kernelspec": {
   "display_name": "Python 3",
   "language": "python",
   "name": "python3"
  },
  "language_info": {
   "codemirror_mode": {
    "name": "ipython",
    "version": 3
   },
   "file_extension": ".py",
   "mimetype": "text/x-python",
   "name": "python",
   "nbconvert_exporter": "python",
   "pygments_lexer": "ipython3",
   "version": "3.6.7"
  }
 },
 "nbformat": 4,
 "nbformat_minor": 2
}
