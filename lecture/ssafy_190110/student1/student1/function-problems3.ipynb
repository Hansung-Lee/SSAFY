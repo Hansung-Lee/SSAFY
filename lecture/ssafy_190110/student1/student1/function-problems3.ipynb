{
 "cells": [
  {
   "cell_type": "markdown",
   "metadata": {},
   "source": [
    "## Function-Problems3"
   ]
  },
  {
   "cell_type": "markdown",
   "metadata": {},
   "source": [
    "### 문제1\n",
    "\n",
    ">Arara는 셈을 한쌍으로 하는 아마존에 살고 있는 부족입니다. 이들이 행하는 셈의 방식은 다음과 같습니다.\n",
    "\n",
    ">예를 들어, 1에서 8까지는 셈을 한다면,\n",
    "- 1 = anane \n",
    "- 2 = adak \n",
    "- 3 = adak anane \n",
    "- 4 = adak adak \n",
    "- 5 = adak adak anane \n",
    "- 6 = adak adak adak\n",
    "- 7 = adak adak adak anane\n",
    "- 8 = adak adak adak adak \n",
    "\n",
    ">주어진 숫자 인수를 통해 다음과 같은 함수를 작성하세요.\n",
    "\n",
    "\n",
    ">예시\n",
    "- count_arara(3) # -> 'adak anane'\n",
    "- count_arara(8) # -> 'adak adak adak adak'"
   ]
  },
  {
   "cell_type": "code",
   "execution_count": 4,
   "metadata": {},
   "outputs": [
    {
     "name": "stdout",
     "output_type": "stream",
     "text": [
      " adak anane\n",
      " adak adak adak adak\n"
     ]
    }
   ],
   "source": [
    "# 여기에 코드를 작성하세요\n",
    "def count_arara(num):\n",
    "    answer = ''\n",
    "    for i in range(num//2):\n",
    "        answer += ' adak'\n",
    "        \n",
    "    if(num%2==1):\n",
    "        answer += ' anane'\n",
    "        \n",
    "    return answer\n",
    "    \n",
    "    \n",
    "print(count_arara(3))\n",
    "print(count_arara(8))"
   ]
  },
  {
   "cell_type": "markdown",
   "metadata": {},
   "source": [
    "### 문제 2\n",
    "\n",
    ">제 친구 Rora는 그녀가 하고있는 밴드의 이름을 바꾸고 싶어합니다. \n",
    "그녀는 \"The\" + 대문자 명사 형태의 밴드 이름을 원합니다. 예를 들어,\"dolphin\" -> \"The Dolphin\"와 같습니다.\n",
    "\n",
    "> 또는 첫글자와 마지막 글자가 같다면 같은 단어(명사)를 반복하여 결합하여 첫번째 문자를 대문자로 시작하는 밴드 이름을 \n",
    "만들고 싶어합니다. (이때는 앞쪽에 'The'가 없음) 예를 들어, \"alaska\" -> \"Alaskaalaska\"과 같습니다.\n",
    "\n",
    ">명사를 문자열로 하는 함수를 완성하고 선호하는 밴드 이름을 문자열로 표시하세요."
   ]
  },
  {
   "cell_type": "code",
   "execution_count": 6,
   "metadata": {},
   "outputs": [
    {
     "name": "stdout",
     "output_type": "stream",
     "text": [
      "The Dolphin\n",
      "Alaskaalaska\n"
     ]
    }
   ],
   "source": [
    "# 여기에 코드를 작성하세요\n",
    "def rora_band(word):\n",
    "    if word[0]==word[-1]:\n",
    "        word = (word*2).capitalize()\n",
    "    \n",
    "    else:\n",
    "        word = 'The '+ word.capitalize()\n",
    "    \n",
    "    return word\n",
    "\n",
    "print(rora_band('dolphin'))\n",
    "print(rora_band('alaska'))"
   ]
  },
  {
   "cell_type": "markdown",
   "metadata": {},
   "source": [
    "### 문제3\n",
    "\n",
    "> 다음 참고 자료를 활용하여 복합세를 계산하는 함수를 만드세요.\n",
    "- 10달러 이하일 경우, 세율은 10%가 되어야 합니다.\n",
    "- 20달러 이하의 경우, 처음 10달러의 세율은 10%이고, 나머지는 7%입니다.\n",
    "- 30달러 이하의 경우, 처음 10달러의 세율은 10%이고, 다음 10달러의 세율은 7%이고, 나머지 모든 것의 세율은 5%입니다.\n",
    "- 총 30달러를 초과하는 부분에 대해 3%의 세금을 추가하세요.\n",
    "잘못된 숫자의 입력은 0을 반환하세요. \n",
    "\n",
    "\n",
    "> 예시\n",
    "- 10을 입력하면 1을 반환해야 합니다. (1은 10의 10%)\n",
    "- 21을 입력하면 1.75를 반환해야 합니다. (10의 10% + 10의 7% + 1의 5%)"
   ]
  },
  {
   "cell_type": "code",
   "execution_count": 8,
   "metadata": {},
   "outputs": [
    {
     "name": "stdout",
     "output_type": "stream",
     "text": [
      "1.0\n",
      "1.75\n"
     ]
    }
   ],
   "source": [
    "# 여기에 코드를 작성하세요\n",
    "def tax_cal(num):\n",
    "    tax_value = 0\n",
    "    if num<=10:\n",
    "        tax_value = num*0.1\n",
    "    elif num<=20:\n",
    "        tax_value = 10*0.1 + (num-10)*0.07\n",
    "    elif num<=30:\n",
    "        tax_value = 10*0.1 + 10*0.07 + (num-20)*0.05\n",
    "    else:\n",
    "        tax_value = 10*0.1 + 10*0.07 + 10*0.05 + (num-30)*0.03\n",
    "    \n",
    "    return round(tax_value,2)\n",
    "\n",
    "print(tax_cal(10))\n",
    "print(tax_cal(21))"
   ]
  },
  {
   "cell_type": "markdown",
   "metadata": {},
   "source": [
    "### 문제4\n",
    "\n",
    "> 등차수열 만들기\n",
    "\n",
    "> 입력값: 시작값(a), 증가값(r), 횟수(n)"
   ]
  },
  {
   "cell_type": "code",
   "execution_count": null,
   "metadata": {},
   "outputs": [],
   "source": [
    "# 예시\n",
    "\n",
    "# arithmetic_sequence_sum(2, 3, 5) -> return 40\n",
    "\n",
    "# 1     2        3          4            5\n",
    "# a + (a+r) + (a+r+r) + (a+r+r+r) + (a+r+r+r+r) \n",
    "# 2 + (2+3) + (2+3+3) + (2+3+3+3) + (2+3+3+3+3) = 40"
   ]
  },
  {
   "cell_type": "code",
   "execution_count": 9,
   "metadata": {},
   "outputs": [
    {
     "name": "stdout",
     "output_type": "stream",
     "text": [
      "40\n"
     ]
    }
   ],
   "source": [
    "# 여기에 코드를 작성하세요\n",
    "def arithmetic_sequence_sum(a, r, n):\n",
    "    result = []\n",
    "    for i in range(n):\n",
    "        result.append(a+(i*r))\n",
    "\n",
    "    return sum(result)\n",
    "\n",
    "print(arithmetic_sequence_sum(2, 3, 5))"
   ]
  },
  {
   "cell_type": "markdown",
   "metadata": {},
   "source": [
    "### 문제5\n",
    "\n",
    ">첫 번째 입력 리스트에는 [\"a\", \"a\", \"b\", \"d\"]처럼 '답'이 들어 있습니다.. 두 번째 입력 리스트는 '해답'이며 사용자의 답이 포함되어 있습니다.  두 개의 리스트는 모두 비어있지 않으며 길이가 같다. 이 답변 배열 리스트에 대한 점수를  반환합니다. 정답의 경우 +4, 오답의 경우 -1, 공백 응답(빈 문자열)의 경우 +0 을 한다. 점수가 0보다 작으면 0을 반환합니다.\n",
    "\n",
    "> 위와 같은 점수 계산을 하는 함수를 작성하세요.\n",
    "\n",
    ">예시\n",
    "- checkExam([\"a\", \"a\", \"b\", \"b\"], [\"a\", \"c\", \"b\", \"d\"]) → 6\n",
    "- checkExam([\"a\", \"a\", \"c\", \"b\"], [\"a\", \"a\", \"b\",  \"\"]) → 7\n",
    "- checkExam([\"a\", \"a\", \"b\", \"c\"], [\"a\", \"a\", \"b\", \"c\"]) → 16\n",
    "- checkExam([\"b\", \"c\", \"b\", \"a\"], [\"\",  \"a\", \"a\", \"c\"]) → 0"
   ]
  },
  {
   "cell_type": "code",
   "execution_count": 11,
   "metadata": {},
   "outputs": [
    {
     "name": "stdout",
     "output_type": "stream",
     "text": [
      "6\n",
      "7\n",
      "16\n",
      "0\n"
     ]
    }
   ],
   "source": [
    "# 여기에 코드를 작성하세요\n",
    "\n",
    "def checkExam(li1, li2):\n",
    "    score = 0\n",
    "    for i in range(len(li1)):\n",
    "        if li1[i]== li2[i]:\n",
    "            score+=4\n",
    "        elif li2[i]=='':\n",
    "            pass\n",
    "        else:\n",
    "            score-=1\n",
    "    \n",
    "    if score<0:\n",
    "        score = 0\n",
    "    \n",
    "    return score\n",
    "        \n",
    "print(checkExam([\"a\", \"a\", \"b\", \"b\"], [\"a\", \"c\", \"b\", \"d\"]))\n",
    "print(checkExam([\"a\", \"a\", \"c\", \"b\"], [\"a\", \"a\", \"b\", \"\"]))\n",
    "print(checkExam([\"a\", \"a\", \"b\", \"c\"], [\"a\", \"a\", \"b\", \"c\"]))\n",
    "print(checkExam([\"b\", \"c\", \"b\", \"a\"], [\"\", \"a\", \"a\", \"c\"]))"
   ]
  }
 ],
 "metadata": {
  "kernelspec": {
   "display_name": "Python 3",
   "language": "python",
   "name": "python3"
  },
  "language_info": {
   "codemirror_mode": {
    "name": "ipython",
    "version": 3
   },
   "file_extension": ".py",
   "mimetype": "text/x-python",
   "name": "python",
   "nbconvert_exporter": "python",
   "pygments_lexer": "ipython3",
   "version": "3.6.7"
  }
 },
 "nbformat": 4,
 "nbformat_minor": 2
}
