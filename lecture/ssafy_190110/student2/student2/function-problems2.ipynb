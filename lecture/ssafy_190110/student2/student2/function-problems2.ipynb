{
 "cells": [
  {
   "cell_type": "markdown",
   "metadata": {},
   "source": [
    "## Function-Problems2"
   ]
  },
  {
   "cell_type": "markdown",
   "metadata": {},
   "source": [
    "### 문제1\n",
    "\n",
    ">휴식을 위해 휴가를 가기로 결정했습니다. 휴가지에서 편히 돌아다니기 위해 렌터카를\n",
    "빌려야 합니다. 렌터카 회사의 직원이 당신에게 보내준 가격 책정 방법은 다음과 같습니다.\n",
    "\n",
    "> 매일 40달러의 비용이 청구됩니다. 7일 이상 차를 빌리면, 50달러가 할인됩니다. 또한,\n",
    "3일 이상 차를 렌트하면 20달러가 할인됩니다. 총 금액을 '당신의 렌터카 비용은 00$입니다' 라는 메세지를 반환하는 함수를 만드세요."
   ]
  },
  {
   "cell_type": "code",
   "execution_count": 3,
   "metadata": {},
   "outputs": [
    {
     "name": "stdout",
     "output_type": "stream",
     "text": [
      "당신의 렌터카 비용은 100$입니다.\n",
      "당신의 렌터카 비용은 230$입니다.\n"
     ]
    }
   ],
   "source": [
    "#여기에 코드를 작성하세요\n",
    "\n",
    "def renter(num):\n",
    "    result = 40*num\n",
    "    if num>=7:\n",
    "        result -= 50\n",
    "    elif num>=3:\n",
    "        result -= 20\n",
    "    \n",
    "    return f'당신의 렌터카 비용은 {result}$입니다.'\n",
    "    \n",
    "print(renter(3))\n",
    "print(renter(7))"
   ]
  },
  {
   "cell_type": "markdown",
   "metadata": {},
   "source": [
    "### 문제2\n",
    "\n",
    ">같은 숫자가 한개 있거나 두개가 들어있는 리스트가 주어집니다. 이러한 리스트에서 숫자가 한개만있는 요소들의 합을 구하는 함수를 작성하세요.\n",
    "\n",
    "> 예를 들어, repeats([4, 5, 7, 5, 4, 8]) = 15 는 7과 8이 한번만 나오기 때문에 두개를 더한 15가 결과값으로 도출됩니다. "
   ]
  },
  {
   "cell_type": "code",
   "execution_count": 34,
   "metadata": {},
   "outputs": [
    {
     "name": "stdout",
     "output_type": "stream",
     "text": [
      "15\n"
     ]
    }
   ],
   "source": [
    "# 여기에 코드를 작성하세요\n",
    "def repeats(li):\n",
    "    result = []\n",
    "    answer = []\n",
    "    for i in range(len(li)):\n",
    "        check_tf = False\n",
    "        for j in range(i+1,len(li)):\n",
    "            if li[i]==li[j]:\n",
    "                check_tf = True\n",
    "                break\n",
    "        \n",
    "        if check_tf:\n",
    "            result.append(i)\n",
    "            result.append(j)\n",
    "    \n",
    "    for i in range(len(li)):\n",
    "        if i in result:\n",
    "            continue\n",
    "        else:\n",
    "            answer.append(li[i])\n",
    "    \n",
    "    return sum(answer)\n",
    "    \n",
    "print(repeats([4, 5, 7, 5, 4, 8]))"
   ]
  },
  {
   "cell_type": "markdown",
   "metadata": {},
   "source": [
    "### 문제3\n",
    "\n",
    ">과수원에 농부 한명이 썩은 과일이 몇개 들어있는 과일 봉지를 가지고 있습니다. (이 과일 봉지는리스트를 의미합니다) 농부는 썩은 과일 조각들을 모두 신선한 것으로 교체하고 싶어합니다. (rotten과일을 신선한 과일로 바꿔야 합니다)\n",
    "\n",
    ">예를 들어,\n",
    "- [\"apple\",\"rottenBanana\",\"apple\"] 이라는 리스트가 주어진 경우, 대체된 리스트는[\"apple\",\"banana\",\"apple\"]이어야 합니다. 당신은 썩은 과일들이 신선한 과일로 대체되어 리스트로 만드는 함수를 작성하면 됩니다.\n",
    "\n",
    "\n",
    "> 유의\n",
    "- 만약 리스트가 null/nil/None이거나 비어 있는 경우 빈 리스트를 반환합니다.\n",
    "- 반환된 리스트는 소문자여야 합니다,"
   ]
  },
  {
   "cell_type": "code",
   "execution_count": 23,
   "metadata": {},
   "outputs": [
    {
     "name": "stdout",
     "output_type": "stream",
     "text": [
      "['apple', 'banana', 'apple']\n",
      "[]\n"
     ]
    }
   ],
   "source": [
    "# 여기에 코드를 작성하세요\n",
    "def nongbu(li):\n",
    "    new_li = []\n",
    "    for l in li:\n",
    "        if 'rotten' in l:\n",
    "            new_li.append(l.split('rotten')[1].lower())\n",
    "        else:\n",
    "            new_li.append(l)\n",
    "    \n",
    "    return new_li\n",
    "    \n",
    "    \n",
    "print(nongbu([\"apple\",\"rottenBanana\",\"apple\"]))\n",
    "print(nongbu([]))"
   ]
  },
  {
   "cell_type": "markdown",
   "metadata": {},
   "source": [
    "### 문제4\n",
    "\n",
    ">마을의 신호등을 제어하는 코드를 작성하려고 합니다. 녹색 -> 노란색 -> 빨간색 \n",
    "-> 녹색으로 변환하는 함수가 필요합니다. \n",
    "\n",
    "> 현재의 불빛 상태를 나타내는 인수하고 함수를 실행 시켰을 때 변경 되어야 하는 빛의 색을 \n",
    "나타내는 함수를 완성하세요.\n",
    "\n",
    ">예시:update_light('green') should return 'yellow'."
   ]
  },
  {
   "cell_type": "code",
   "execution_count": 24,
   "metadata": {},
   "outputs": [
    {
     "name": "stdout",
     "output_type": "stream",
     "text": [
      "yellow\n"
     ]
    }
   ],
   "source": [
    "# 여기에 코드를 작성하세요.\n",
    "def update_light(color):\n",
    "    if color == 'green':\n",
    "        return 'yellow'\n",
    "    elif color == 'yellow':\n",
    "        return 'red'\n",
    "    elif color == 'red':\n",
    "        return 'green'\n",
    "    \n",
    "print(update_light('green'))"
   ]
  },
  {
   "cell_type": "markdown",
   "metadata": {},
   "source": [
    "### 문제5\n",
    "\n",
    ">두 수를 입력받아 두 수의 최대공약수와 최소공배수를 반환하는 함수, solution을 완성해 보세요. 배열의 맨 앞에 최대공약수, 그다음 최소공배수를 넣어 반환하면 됩니다. \n",
    "\n",
    ">예를 들어 두 수 3, 12의 최대공약수는 3, 최소공배수는 12이므로 solution(3, 12)는 [3, 12]를 반환해야 합니다. "
   ]
  },
  {
   "cell_type": "code",
   "execution_count": 25,
   "metadata": {},
   "outputs": [
    {
     "name": "stdout",
     "output_type": "stream",
     "text": [
      "[3, 12]\n"
     ]
    }
   ],
   "source": [
    "# 여기에 코드를 작성하세요\n",
    "\n",
    "# 최대 공약수\n",
    "def gcd(a, b):\n",
    "    mod = a%b\n",
    "    while mod > 0:\n",
    "        a = b\n",
    "        b = mod\n",
    "        mod = a%b\n",
    "    return b\n",
    "\n",
    "# 최소 공배수\n",
    "def lcm(a, b):\n",
    "    return a*b//gcd(a,b)\n",
    "\n",
    "def solution(a, b):\n",
    "    return [gcd(a, b), lcm(a, b)]\n",
    "    \n",
    "print(solution(3, 12))"
   ]
  }
 ],
 "metadata": {
  "kernelspec": {
   "display_name": "Python 3",
   "language": "python",
   "name": "python3"
  },
  "language_info": {
   "codemirror_mode": {
    "name": "ipython",
    "version": 3
   },
   "file_extension": ".py",
   "mimetype": "text/x-python",
   "name": "python",
   "nbconvert_exporter": "python",
   "pygments_lexer": "ipython3",
   "version": "3.6.7"
  }
 },
 "nbformat": 4,
 "nbformat_minor": 2
}
