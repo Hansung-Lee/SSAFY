{
 "cells": [
  {
   "cell_type": "markdown",
   "metadata": {},
   "source": [
    "## Function-Problems4"
   ]
  },
  {
   "cell_type": "markdown",
   "metadata": {},
   "source": [
    "### 문제1\n",
    "\n",
    ">OOO 모바일은 개인정보 보호를 위해 고지서를 보낼 때 고객들의 전화번호의 일부를 가립니다. 전화번호가 문자열 phone_number로 주어졌을 때, 전화번호의 뒷 4자리를 제외한 나머지 숫자를 전부 *으로 가린 문자열을 리턴하는 함수, solution을 완성해주세요."
   ]
  },
  {
   "cell_type": "code",
   "execution_count": 20,
   "metadata": {},
   "outputs": [
    {
     "name": "stdout",
     "output_type": "stream",
     "text": [
      "*******2344\n"
     ]
    }
   ],
   "source": [
    "# 여기에 코드를 작성해주세요\n",
    "def solution(phone_number): \n",
    "    return '*******'+phone_number[-4:]\n",
    "\n",
    "print(solution('01012312344'))"
   ]
  },
  {
   "cell_type": "markdown",
   "metadata": {},
   "source": [
    "### 문제2\n",
    "\n",
    ">문자열이 주어지면, 각 문자(대소문자 구분)를 한번씩 반복하여 문자열을 반환하는 함수를 작성하세요.\n",
    "\n",
    ">예시\n",
    "- double_char(\"String\") ==> \"SSttrriinngg\"\n",
    "- double_char(\"Hello World\") ==> \"HHeelllloo  WWoorrlldd\"\n",
    "- double_char(\"1234!_ \") ==> \"11223344!!__  \""
   ]
  },
  {
   "cell_type": "code",
   "execution_count": 1,
   "metadata": {},
   "outputs": [
    {
     "name": "stdout",
     "output_type": "stream",
     "text": [
      "PPyytthhoonn\n"
     ]
    }
   ],
   "source": [
    " # 여기에 코드를 작성하세요.\n",
    "def double_char(word):\n",
    "    return ''.join(s * 2 for s in word)\n",
    "\n",
    "print (double_char('Python'))"
   ]
  },
  {
   "cell_type": "markdown",
   "metadata": {},
   "source": [
    "### 문제3\n",
    "\n",
    ">크기를 가지고 1과 0을 번갈아 나타내는 stringy 함수를 작성하고자 합니다. \n",
    "\n",
    "> 조건 및 출력예시\n",
    "- 문자열은 반드시 1부터 시작해야 합니다. \n",
    "- 스트링의 크기는 항상 양수이며 정수만 사용합니다.\n",
    "- 스트링의 크기(size)가 6이면 '101010'을 반환합니다.\n",
    "- 스트링의 크기(size)가 4이면 '1010'을 반환합니다. \n",
    "- 스트링의 크기(size)가 12이면 '101010101010'을 반환합니다. "
   ]
  },
  {
   "cell_type": "code",
   "execution_count": 8,
   "metadata": {},
   "outputs": [
    {
     "name": "stdout",
     "output_type": "stream",
     "text": [
      "1010101\n"
     ]
    }
   ],
   "source": [
    "# 여기에 코드를 작성하세요\n",
    "def solution(size):\n",
    "    evenodd = True  # True : 홀수  False : 짝수\n",
    "    result = ''\n",
    "    for i in range(size):\n",
    "        if evenodd:\n",
    "            result+='1'\n",
    "            evenodd = False\n",
    "        else:\n",
    "            result+='0'\n",
    "            evenodd = True\n",
    "    return result\n",
    "\n",
    "print(solution(7))"
   ]
  },
  {
   "cell_type": "markdown",
   "metadata": {},
   "source": [
    "### 문제4\n",
    "\n",
    "> 당신이 일하는 회사는 지불 시스템을 개발하는 계약을 맺었습니다. 당신의 임무는 금액(실수)을 달러와 센트의 문자열 서식으로 반환하는 함수를 개발하는 일입니다. 0이 누락 경우에 뒤에 0을 추가해야 합니다.\n",
    "\n",
    ">예시\n",
    "- 3 -> $3.00 \n"
   ]
  },
  {
   "cell_type": "code",
   "execution_count": 21,
   "metadata": {},
   "outputs": [
    {
     "name": "stdout",
     "output_type": "stream",
     "text": [
      "$3.00\n"
     ]
    }
   ],
   "source": [
    "#여기에 코드를 작성하세요.\n",
    "def solution(num):\n",
    "    return f'${num:0.2f}'\n",
    "\n",
    "print(solution(3))"
   ]
  },
  {
   "cell_type": "markdown",
   "metadata": {},
   "source": [
    "### 문제5\n",
    "\n",
    "> 1세기는 1년~100년까지, 2세기는 101년에서 200년까지를 포함합니다. 주어진 연도 값에서, 세기를 반환하는 함수를 작성하세요. "
   ]
  },
  {
   "cell_type": "code",
   "execution_count": 28,
   "metadata": {},
   "outputs": [
    {
     "name": "stdout",
     "output_type": "stream",
     "text": [
      "21세기\n"
     ]
    }
   ],
   "source": [
    "# 여기에 코드를 작성하세요\n",
    "\n",
    "def solution(year):\n",
    "    return f'{str(year+99)[:-2]}세기'\n",
    "\n",
    "print(solution(2019))"
   ]
  }
 ],
 "metadata": {
  "kernelspec": {
   "display_name": "Python 3",
   "language": "python",
   "name": "python3"
  },
  "language_info": {
   "codemirror_mode": {
    "name": "ipython",
    "version": 3
   },
   "file_extension": ".py",
   "mimetype": "text/x-python",
   "name": "python",
   "nbconvert_exporter": "python",
   "pygments_lexer": "ipython3",
   "version": "3.6.7"
  }
 },
 "nbformat": 4,
 "nbformat_minor": 2
}
