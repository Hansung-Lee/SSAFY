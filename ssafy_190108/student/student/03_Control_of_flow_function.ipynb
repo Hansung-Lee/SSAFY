{
 "cells": [
  {
   "cell_type": "code",
   "execution_count": null,
   "metadata": {},
   "outputs": [],
   "source": [
    "# for youtube display\n",
    "from IPython.display import YouTubeVideo"
   ]
  },
  {
   "cell_type": "markdown",
   "metadata": {
    "slideshow": {
     "slide_type": "slide"
    }
   },
   "source": [
    "# 함수(function) 기초"
   ]
  },
  {
   "cell_type": "markdown",
   "metadata": {
    "slideshow": {
     "slide_type": "-"
    }
   },
   "source": [
    "<center>\n",
    "    <img src=\"./images/02_1/func.png\", alt=\"func.png\">\n",
    "</center>"
   ]
  },
  {
   "cell_type": "markdown",
   "metadata": {
    "slideshow": {
     "slide_type": "slide"
    }
   },
   "source": [
    "## 들어가기전에\n",
    "\n",
    "> 직사각형의 둘레와 면적을 구하는 코드를 작성해주세요.\n",
    "\n",
    "```python\n",
    "height = 30\n",
    "width = 20\n",
    "```\n",
    "\n",
    "---\n",
    "```\n",
    "예시 출력)\n",
    "직사각형 둘레: 100, 면적: 600입니다.\n",
    "```"
   ]
  },
  {
   "cell_type": "code",
   "execution_count": 1,
   "metadata": {
    "slideshow": {
     "slide_type": "subslide"
    }
   },
   "outputs": [
    {
     "name": "stdout",
     "output_type": "stream",
     "text": [
      "직사각형 둘레: 100, 면적: 600 입니다.\n"
     ]
    }
   ],
   "source": [
    "height = 30\n",
    "width = 20\n",
    "# 아래에 코드를 작성하세요.\n",
    "\n",
    "print(f\"직사각형 둘레: {(height+width)*2}, 면적: {height*width} 입니다.\")"
   ]
  },
  {
   "cell_type": "markdown",
   "metadata": {
    "slideshow": {
     "slide_type": "subslide"
    }
   },
   "source": [
    "* 앞서 작성한 코드에서 매번 사각형의 둘레와 면적을 구하기 위해서는 변수에 값을 바꾸거나 코드를 복사 붙여넣기 해야합니다.\n",
    "* 코드가 많아질수록 문제가 발생할 확률이 높아지며, 유지 보수하기도 힘들어진다."
   ]
  },
  {
   "cell_type": "markdown",
   "metadata": {},
   "source": [
    "<center>\n",
    "    <img src=\"./images/02_1/emc2.png\", alt=\"programming principle\">\n",
    "</center>"
   ]
  },
  {
   "cell_type": "markdown",
   "metadata": {
    "slideshow": {
     "slide_type": "subslide"
    }
   },
   "source": [
    "<center>\n",
    "    <img src=\"./images/02_1/principle.png\", alt=\"programming principle\">\n",
    "</center>"
   ]
  },
  {
   "cell_type": "markdown",
   "metadata": {
    "slideshow": {
     "slide_type": "slide"
    }
   },
   "source": [
    "## 개요\n",
    "\n",
    "**활용법**\n",
    "\n",
    "```\n",
    "def func(parameter1, parameter2):\n",
    "    code line1\n",
    "    code line2\n",
    "    return value\n",
    "```\n",
    "\n",
    "* 함수 선언은 `def`로 시작하여 `:`으로 끝나고, 다음은 `4spaces 들여쓰기`로 코드 블록을 만듭니다.\n",
    "\n",
    "* 함수는 `매개변수(parameter)`를 넘겨줄 수도 있습니다.\n",
    "\n",
    "* 함수는 동작후에 `return`을 통해 결과값을 전달 할 수도 있습니다. (`return` 값이 없으면, None을 반환합니다.)\n",
    "\n",
    "* 함수는 호출을 `func(val1, val2)`와 같이 합니다.\n",
    "\n"
   ]
  },
  {
   "cell_type": "code",
   "execution_count": 4,
   "metadata": {
    "slideshow": {
     "slide_type": "subslide"
    }
   },
   "outputs": [],
   "source": [
    "# 위의 사각형 코드를 rectangle() 함수로 만들어보세요.\n",
    "\n",
    "def rectagle(height, width):\n",
    "    return (f\"직사각형 둘레: {(height+width)*2}, 면적: {height*width} 입니다.\")"
   ]
  },
  {
   "cell_type": "code",
   "execution_count": 5,
   "metadata": {},
   "outputs": [
    {
     "data": {
      "text/plain": [
       "'직사각형 둘레: 260, 면적: 3000 입니다.'"
      ]
     },
     "execution_count": 5,
     "metadata": {},
     "output_type": "execute_result"
    }
   ],
   "source": [
    "# 너비 30, 높이 100일때 호출 해보세요\n",
    "rectagle(30, 100)"
   ]
  },
  {
   "cell_type": "markdown",
   "metadata": {
    "slideshow": {
     "slide_type": "subslide"
    }
   },
   "source": [
    "<center>\n",
    "    <img src=\"./images/02_1/func_des.png\", alt=\"function descrpition\">\n",
    "</center>"
   ]
  },
  {
   "cell_type": "markdown",
   "metadata": {
    "slideshow": {
     "slide_type": "subslide"
    }
   },
   "source": [
    "<center>\n",
    "    <img src=\"./images/02_1/function_ex.png\", alt=\"function_example\">\n",
    "</center>"
   ]
  },
  {
   "cell_type": "code",
   "execution_count": null,
   "metadata": {
    "slideshow": {
     "slide_type": "subslide"
    }
   },
   "outputs": [],
   "source": [
    "# 우리가 활용하는 print문도 파이썬에 지정된 함수입니다. \n",
    "# 아래에서 'hi'는 parameter로 넘어가고 출력을 하게 됩니다.\n",
    "print('hi')"
   ]
  },
  {
   "cell_type": "markdown",
   "metadata": {
    "slideshow": {
     "slide_type": "subslide"
    }
   },
   "source": [
    "<center>\n",
    "    <img src=\"./images/02_1/built_in.png\", alt=\"built_in\">\n",
    "</center>\n",
    "\n",
    "[출처: python 공식문서](https://docs.python.org/3/library/functions.html)"
   ]
  },
  {
   "cell_type": "code",
   "execution_count": 7,
   "metadata": {
    "slideshow": {
     "slide_type": "subslide"
    }
   },
   "outputs": [
    {
     "data": {
      "text/plain": [
       "['ArithmeticError',\n",
       " 'AssertionError',\n",
       " 'AttributeError',\n",
       " 'BaseException',\n",
       " 'BlockingIOError',\n",
       " 'BrokenPipeError',\n",
       " 'BufferError',\n",
       " 'BytesWarning',\n",
       " 'ChildProcessError',\n",
       " 'ConnectionAbortedError',\n",
       " 'ConnectionError',\n",
       " 'ConnectionRefusedError',\n",
       " 'ConnectionResetError',\n",
       " 'DeprecationWarning',\n",
       " 'EOFError',\n",
       " 'Ellipsis',\n",
       " 'EnvironmentError',\n",
       " 'Exception',\n",
       " 'False',\n",
       " 'FileExistsError',\n",
       " 'FileNotFoundError',\n",
       " 'FloatingPointError',\n",
       " 'FutureWarning',\n",
       " 'GeneratorExit',\n",
       " 'IOError',\n",
       " 'ImportError',\n",
       " 'ImportWarning',\n",
       " 'IndentationError',\n",
       " 'IndexError',\n",
       " 'InterruptedError',\n",
       " 'IsADirectoryError',\n",
       " 'KeyError',\n",
       " 'KeyboardInterrupt',\n",
       " 'LookupError',\n",
       " 'MemoryError',\n",
       " 'ModuleNotFoundError',\n",
       " 'NameError',\n",
       " 'None',\n",
       " 'NotADirectoryError',\n",
       " 'NotImplemented',\n",
       " 'NotImplementedError',\n",
       " 'OSError',\n",
       " 'OverflowError',\n",
       " 'PendingDeprecationWarning',\n",
       " 'PermissionError',\n",
       " 'ProcessLookupError',\n",
       " 'RecursionError',\n",
       " 'ReferenceError',\n",
       " 'ResourceWarning',\n",
       " 'RuntimeError',\n",
       " 'RuntimeWarning',\n",
       " 'StopAsyncIteration',\n",
       " 'StopIteration',\n",
       " 'SyntaxError',\n",
       " 'SyntaxWarning',\n",
       " 'SystemError',\n",
       " 'SystemExit',\n",
       " 'TabError',\n",
       " 'TimeoutError',\n",
       " 'True',\n",
       " 'TypeError',\n",
       " 'UnboundLocalError',\n",
       " 'UnicodeDecodeError',\n",
       " 'UnicodeEncodeError',\n",
       " 'UnicodeError',\n",
       " 'UnicodeTranslateError',\n",
       " 'UnicodeWarning',\n",
       " 'UserWarning',\n",
       " 'ValueError',\n",
       " 'Warning',\n",
       " 'WindowsError',\n",
       " 'ZeroDivisionError',\n",
       " '__IPYTHON__',\n",
       " '__build_class__',\n",
       " '__debug__',\n",
       " '__doc__',\n",
       " '__import__',\n",
       " '__loader__',\n",
       " '__name__',\n",
       " '__package__',\n",
       " '__spec__',\n",
       " 'abs',\n",
       " 'all',\n",
       " 'any',\n",
       " 'ascii',\n",
       " 'bin',\n",
       " 'bool',\n",
       " 'bytearray',\n",
       " 'bytes',\n",
       " 'callable',\n",
       " 'chr',\n",
       " 'classmethod',\n",
       " 'compile',\n",
       " 'complex',\n",
       " 'copyright',\n",
       " 'credits',\n",
       " 'delattr',\n",
       " 'dict',\n",
       " 'dir',\n",
       " 'display',\n",
       " 'divmod',\n",
       " 'enumerate',\n",
       " 'eval',\n",
       " 'exec',\n",
       " 'filter',\n",
       " 'float',\n",
       " 'format',\n",
       " 'frozenset',\n",
       " 'get_ipython',\n",
       " 'getattr',\n",
       " 'globals',\n",
       " 'hasattr',\n",
       " 'hash',\n",
       " 'help',\n",
       " 'hex',\n",
       " 'id',\n",
       " 'input',\n",
       " 'int',\n",
       " 'isinstance',\n",
       " 'issubclass',\n",
       " 'iter',\n",
       " 'len',\n",
       " 'license',\n",
       " 'list',\n",
       " 'locals',\n",
       " 'map',\n",
       " 'max',\n",
       " 'memoryview',\n",
       " 'min',\n",
       " 'next',\n",
       " 'object',\n",
       " 'oct',\n",
       " 'open',\n",
       " 'ord',\n",
       " 'pow',\n",
       " 'print',\n",
       " 'property',\n",
       " 'range',\n",
       " 'repr',\n",
       " 'reversed',\n",
       " 'round',\n",
       " 'set',\n",
       " 'setattr',\n",
       " 'slice',\n",
       " 'sorted',\n",
       " 'staticmethod',\n",
       " 'str',\n",
       " 'sum',\n",
       " 'super',\n",
       " 'tuple',\n",
       " 'type',\n",
       " 'vars',\n",
       " 'zip']"
      ]
     },
     "execution_count": 7,
     "metadata": {},
     "output_type": "execute_result"
    }
   ],
   "source": [
    "# 내장함수 목록을 직접 볼 수도 있습니다.\n",
    "dir(__builtins__)"
   ]
  },
  {
   "cell_type": "markdown",
   "metadata": {
    "slideshow": {
     "slide_type": "slide"
    }
   },
   "source": [
    "# 함수의 return\n",
    "\n",
    "앞서 설명한 것과 마찬가지로 함수는 반환되는 값이 있으며, 이는 어떠한 종류의 객체여도 상관없습니다. \n",
    " \n",
    "단, 오직 한 개의 객체만 반환됩니다.\n",
    "\n",
    "함수가 return 되거나 종료되면, 함수를 호출한 곳으로 돌아갑니다."
   ]
  },
  {
   "cell_type": "markdown",
   "metadata": {
    "slideshow": {
     "slide_type": "subslide"
    }
   },
   "source": [
    "## 실습문제\n",
    "\n",
    "> 아래의 코드와 동일한 `my_max`함수를 만들어주세요.\n",
    ">\n",
    "> 정수를 두개 받아서, 큰 값을 반환합니다. \n",
    "\n",
    "```python\n",
    "max(1, 5)\n",
    "```\n",
    "---\n",
    "```\n",
    "예상 출력)\n",
    "5\n",
    "```\n"
   ]
  },
  {
   "cell_type": "code",
   "execution_count": null,
   "metadata": {
    "slideshow": {
     "slide_type": "-"
    }
   },
   "outputs": [],
   "source": [
    "max(1,5)"
   ]
  },
  {
   "cell_type": "code",
   "execution_count": 8,
   "metadata": {
    "scrolled": true,
    "slideshow": {
     "slide_type": "subslide"
    }
   },
   "outputs": [
    {
     "data": {
      "text/plain": [
       "5"
      ]
     },
     "execution_count": 8,
     "metadata": {},
     "output_type": "execute_result"
    }
   ],
   "source": [
    "# 여기에 my_max 함수를 만들어주세요.\n",
    "\n",
    "def my_max(a, b):\n",
    "    if a> b:\n",
    "        return a\n",
    "    else:\n",
    "        return b\n",
    "    \n",
    "my_max(1,5)"
   ]
  },
  {
   "cell_type": "code",
   "execution_count": null,
   "metadata": {},
   "outputs": [],
   "source": [
    "# 만든 함수를 호출해보세요."
   ]
  },
  {
   "cell_type": "markdown",
   "metadata": {
    "slideshow": {
     "slide_type": "subslide"
    }
   },
   "source": [
    "## 실습문제\n",
    "\n",
    "> 함수는 모든 객체를 리턴할 수 있습니다. \n",
    "> \n",
    "> 리스트 두개를 받아 각각 더한 결과를 비교하여 값이 큰 리스트를 반환합니다.\n",
    "\n",
    "```python\n",
    "my_list_max([10, 3], [5, 9])\n",
    "```\n",
    "---\n",
    "```\n",
    "예상 출력)\n",
    "[5, 9]\n",
    "```\n"
   ]
  },
  {
   "cell_type": "code",
   "execution_count": 10,
   "metadata": {
    "scrolled": true,
    "slideshow": {
     "slide_type": "subslide"
    }
   },
   "outputs": [
    {
     "data": {
      "text/plain": [
       "[5, 9]"
      ]
     },
     "execution_count": 10,
     "metadata": {},
     "output_type": "execute_result"
    }
   ],
   "source": [
    "# 여기에 my_max 함수를 만들어주세요.\n",
    "def my_list_max(a, b):\n",
    "    if sum(a)> sum(b):\n",
    "        return a\n",
    "    else:\n",
    "        return b\n",
    "    \n",
    "my_list_max([10, 3], [5, 9])"
   ]
  },
  {
   "cell_type": "code",
   "execution_count": null,
   "metadata": {},
   "outputs": [],
   "source": [
    "# 만든 함수를 호출해보세요."
   ]
  },
  {
   "cell_type": "markdown",
   "metadata": {
    "slideshow": {
     "slide_type": "slide"
    }
   },
   "source": [
    "# 함수의 인자/인수\n",
    "\n",
    "함수는 `인자(parameter)`를 받을 수 있습니다.\n",
    "\n",
    "## 위치 인수\n",
    "\n",
    "\n",
    "함수는 기본적으로 인수를 위치로 판단합니다."
   ]
  },
  {
   "cell_type": "code",
   "execution_count": null,
   "metadata": {
    "slideshow": {
     "slide_type": "subslide"
    }
   },
   "outputs": [],
   "source": [
    "# 알고 있는 수학 공식의 함수를 하나만 만들어보세요."
   ]
  },
  {
   "cell_type": "code",
   "execution_count": null,
   "metadata": {},
   "outputs": [],
   "source": [
    "# 그리고 어떤 인자에 값이 바인딩되어있는지 함수 안에 print문을 작성해주세요."
   ]
  },
  {
   "cell_type": "markdown",
   "metadata": {
    "slideshow": {
     "slide_type": "subslide"
    }
   },
   "source": [
    "<center>\n",
    "    <img src=\"./images/02_1/func_ex_01.png\", alt=\"function example 02\">\n",
    "</center>"
   ]
  },
  {
   "cell_type": "markdown",
   "metadata": {
    "slideshow": {
     "slide_type": "slide"
    }
   },
   "source": [
    "## 기본 값(Default Argument Values)\n",
    "\n",
    "함수가 호출될 때, 인자를 지정하지 않아도 기본 값을 설정할 수 있습니다. \n",
    "\n",
    "**활용법**\n",
    "```\n",
    "def func(p1=v1):\n",
    "    return p1\n",
    "```"
   ]
  },
  {
   "cell_type": "code",
   "execution_count": null,
   "metadata": {
    "slideshow": {
     "slide_type": "subslide"
    }
   },
   "outputs": [],
   "source": [
    "# 이름을 받아서 다음과 같이 인사하는 함수를 만들어보세요. \n",
    "# \"안녕 길동아\"\n",
    "# 이름이 없으면 \"안녕 익명아\" 로 출력해주세요."
   ]
  },
  {
   "cell_type": "markdown",
   "metadata": {
    "slideshow": {
     "slide_type": "subslide"
    }
   },
   "source": [
    "* 기본 인자 값이 설정되어 있더라도 기존의 함수와 동일하게 호출 가능합니다.\n",
    "<center>\n",
    "    <img src=\"./images/02_1/func_ex_02.png\", alt=\"function example 02\">\n",
    "</center>"
   ]
  },
  {
   "cell_type": "markdown",
   "metadata": {
    "slideshow": {
     "slide_type": "subslide"
    }
   },
   "source": [
    "* 호출시 인자가 없으면 기본 인자 값이 활용됩니다.\n",
    "<center>\n",
    "    <img src=\"./images/02_1/func_ex_03.png\", alt=\"function example 03\">\n",
    "</center>"
   ]
  },
  {
   "cell_type": "markdown",
   "metadata": {
    "slideshow": {
     "slide_type": "subslide"
    }
   },
   "source": [
    "* 단, 기본 매개변수 이후에 기본 값이 없는 매개변수를 사용할 수는 없습니다."
   ]
  },
  {
   "cell_type": "code",
   "execution_count": null,
   "metadata": {
    "slideshow": {
     "slide_type": "-"
    }
   },
   "outputs": [],
   "source": [
    "# 오류를 확인해봅시다."
   ]
  },
  {
   "cell_type": "code",
   "execution_count": null,
   "metadata": {},
   "outputs": [],
   "source": [
    "# 정상적인 코드로 바꿔봅시다."
   ]
  },
  {
   "cell_type": "markdown",
   "metadata": {
    "slideshow": {
     "slide_type": "slide"
    }
   },
   "source": [
    "## 키워드 인자(Keyword Arguments)\n",
    "\n",
    "키워드 인자는 직접적으로 변수의 이름으로 특정 인자를 전달할 수 있습니다."
   ]
  },
  {
   "cell_type": "code",
   "execution_count": 12,
   "metadata": {},
   "outputs": [
    {
     "name": "stdout",
     "output_type": "stream",
     "text": [
      "ssafy은 2살입니다.\n",
      "헤은 39살입니다.\n",
      "qqqq은 22살입니다.\n"
     ]
    }
   ],
   "source": [
    "# 키워드 인자 예시\n",
    "def greeting(age, name='ssafy'):\n",
    "    print(f'{name}은 {age}살입니다.')\n",
    "\n",
    "# 다양하게 함수를 호출해봅시다.\n",
    "greeting(2)\n",
    "greeting(39,'헤')\n",
    "greeting(name='qqqq',age=22)"
   ]
  },
  {
   "cell_type": "markdown",
   "metadata": {
    "slideshow": {
     "slide_type": "subslide"
    }
   },
   "source": [
    "* 단 아래와 같이 활용할 수는 없습니다. 키워드 인자를 활용한 뒤에 위치 인자를 활용할 수는 없습니다."
   ]
  },
  {
   "cell_type": "code",
   "execution_count": null,
   "metadata": {},
   "outputs": [],
   "source": [
    "# 오류를 확인해봅시다."
   ]
  },
  {
   "cell_type": "markdown",
   "metadata": {
    "slideshow": {
     "slide_type": "subslide"
    }
   },
   "source": [
    "우리가 주로 활용하는 `print()` 함수는 [파이썬 표준 라이브러리의 내장함수](https://docs.python.org/ko/3.6/library/functions.html) 중 하나이며, 다음과 같이 구성되어 있다.\n",
    "\n",
    "<br>\n",
    "<br>\n",
    "<center>\n",
    "    <img src=\"./images/02_1/print.png\", alt=\"print\">\n",
    "</center>"
   ]
  },
  {
   "cell_type": "code",
   "execution_count": null,
   "metadata": {},
   "outputs": [],
   "source": [
    "print('hi', end='_')\n",
    "print('hello', end='_')"
   ]
  },
  {
   "cell_type": "markdown",
   "metadata": {
    "slideshow": {
     "slide_type": "slide"
    }
   },
   "source": [
    "## 가변 인자 리스트\n",
    "\n",
    "앞서 설명한 `print()`처럼 정해지지 않은 임의의 숫자의 인자를 받기 위해서는 가변인자를 활용합니다. \n",
    "\n",
    "가변인자는 `tuple` 형태로 처리가 되며, `*`로 표현합니다. \n",
    "\n",
    "**활용법**\n",
    "\n",
    "```\n",
    "def func(*args):\n",
    "```"
   ]
  },
  {
   "cell_type": "code",
   "execution_count": null,
   "metadata": {
    "slideshow": {
     "slide_type": "subslide"
    }
   },
   "outputs": [],
   "source": [
    "# 가변 인자 예시 (print문은 *obejcts를 통해 임의의 숫자의 인자를 모두 처리합니다.)\n"
   ]
  },
  {
   "cell_type": "code",
   "execution_count": null,
   "metadata": {},
   "outputs": [],
   "source": [
    "# args는 tuple임을 확인해봅시다.\n",
    "def func(*args):\n",
    "    "
   ]
  },
  {
   "cell_type": "markdown",
   "metadata": {
    "slideshow": {
     "slide_type": "subslide"
    }
   },
   "source": [
    "### 실습문제\n",
    "\n",
    "> 정수를 여러 개 받아서 가장 큰 값을 반환(return)하는 `my_max()`을 만들어주세요.\n",
    "\n",
    "```python\n",
    "my_max(10, 20, 30, 50)\n",
    "```\n",
    "---\n",
    "```\n",
    "예시출력)\n",
    "50\n",
    "```"
   ]
  },
  {
   "cell_type": "code",
   "execution_count": null,
   "metadata": {},
   "outputs": [],
   "source": [
    "max(1, 2, 3, 4)"
   ]
  },
  {
   "cell_type": "code",
   "execution_count": 15,
   "metadata": {
    "slideshow": {
     "slide_type": "subslide"
    }
   },
   "outputs": [],
   "source": [
    "# 아래에 코드를 작성해주세요.\n",
    "def my_max(*args):\n",
    "    maxvalue = 0\n",
    "    for num in args:\n",
    "        if(maxvalue<num):\n",
    "            maxvalue = num\n",
    "    print(maxvalue)"
   ]
  },
  {
   "cell_type": "code",
   "execution_count": 16,
   "metadata": {},
   "outputs": [
    {
     "name": "stdout",
     "output_type": "stream",
     "text": [
      "4\n"
     ]
    }
   ],
   "source": [
    "# 만든 함수를 호출해보세요.\n",
    "my_max(1, 2, 3, 4)"
   ]
  },
  {
   "cell_type": "markdown",
   "metadata": {
    "slideshow": {
     "slide_type": "slide"
    }
   },
   "source": [
    "## 정의되지 않은 인자들 처리하기\n",
    "\n",
    "정의되지 않은 인자들은 `dict` 형태로 처리가 되며, `**`로 표현합니다. \n",
    "\n",
    "주로 `kwagrs`라는 이름을 사용하며, `**kwargs`를 통해 인자를 받아 처리할 수 있습니다.\n",
    "\n",
    "**활용법**\n",
    "\n",
    "```\n",
    "def func(**kwargs):\n",
    "```"
   ]
  },
  {
   "cell_type": "markdown",
   "metadata": {
    "slideshow": {
     "slide_type": "subslide"
    }
   },
   "source": [
    "우리가 dictionary를 만들 때 사용할 수 있는 `dict()` 함수는 [파이썬 표준 라이브러리의 내장함수](https://docs.python.org/ko/3.6/library/functions.html) 중 하나이며, 다음과 같이 구성되어 있다.\n",
    "<br>\n",
    "<br>\n",
    "<center>\n",
    "    <img src=\"./images/02_1/dict.png\", alt=\"dictionary\">\n",
    "</center>"
   ]
  },
  {
   "cell_type": "code",
   "execution_count": null,
   "metadata": {},
   "outputs": [],
   "source": [
    "# 딕셔너리 생성 함수 예시"
   ]
  },
  {
   "cell_type": "markdown",
   "metadata": {
    "slideshow": {
     "slide_type": "subslide"
    }
   },
   "source": [
    "### 실습문제 \n",
    "\n",
    "> `my_dict()` 함수를 만들어 실제로 dictionary 모습으로 출력 함수를 만들어보세요.\n",
    ">\n",
    ">\n",
    "\n",
    "```\n",
    "예시 출력)\n",
    "한국어: 안녕, 영어: hi\n",
    "```"
   ]
  },
  {
   "cell_type": "code",
   "execution_count": 21,
   "metadata": {
    "slideshow": {
     "slide_type": "subslide"
    }
   },
   "outputs": [],
   "source": [
    "# 아래에 코드를 작성해주세요.\n",
    "def my_fake_dict(**kwarg):\n",
    "    cnt = 1\n",
    "    for key in kwarg:\n",
    "        if cnt == len(kwarg):\n",
    "            print(f\"{key}: {kwarg.get(key)}\")\n",
    "        else:\n",
    "            print(f\"{key}: {kwarg.get(key)}\", end=', ')\n",
    "            cnt +=1"
   ]
  },
  {
   "cell_type": "code",
   "execution_count": 22,
   "metadata": {},
   "outputs": [
    {
     "name": "stdout",
     "output_type": "stream",
     "text": [
      "한국어: 안녕, 영어: hi, 독일어: Guten Tag\n"
     ]
    }
   ],
   "source": [
    "# 만든 함수를 호출해보세요.\n",
    "my_fake_dict(한국어='안녕', 영어='hi', 독일어='Guten Tag')"
   ]
  },
  {
   "cell_type": "code",
   "execution_count": 24,
   "metadata": {},
   "outputs": [],
   "source": [
    "# 사실은 dict()는 출력이 아니라 딕셔너리를 리턴합니다. \n",
    "# 리턴하는 my_fake_dict를 만들어주세요.        \n",
    "def my_fake_dict(**kwarg):\n",
    "    return kwarg"
   ]
  },
  {
   "cell_type": "code",
   "execution_count": 25,
   "metadata": {},
   "outputs": [
    {
     "data": {
      "text/plain": [
       "{'한국어': '안녕', '영어': 'hi', '독일어': 'Guten Tag'}"
      ]
     },
     "execution_count": 25,
     "metadata": {},
     "output_type": "execute_result"
    }
   ],
   "source": [
    "# 만든 함수를 호출해보세요.\n",
    "my_fake_dict(한국어='안녕', 영어='hi', 독일어='Guten Tag')"
   ]
  },
  {
   "cell_type": "markdown",
   "metadata": {
    "slideshow": {
     "slide_type": "slide"
    }
   },
   "source": [
    "## dictionary를 인자로 넘기기(unpacking arguments list)\n",
    "\n",
    "`**dict`를 통해 함수에 인자를 넘길 수 있습니다."
   ]
  },
  {
   "cell_type": "code",
   "execution_count": 29,
   "metadata": {},
   "outputs": [],
   "source": [
    "# user 검증(유사 회원가입)을 작성해보세요.\n",
    "# username, password, password_confirmation을 받아서 비밀번호 일치 여부를 판단해보세요.\n",
    "def user(username, password, password_confirmation):\n",
    "    if password == password_confirmation:\n",
    "        print (f'{username}님, 회원가입이 완료되었습니다.')\n",
    "    else:\n",
    "        print ('비밀번호가 일치하지 않습니다.')"
   ]
  },
  {
   "cell_type": "code",
   "execution_count": 31,
   "metadata": {
    "slideshow": {
     "slide_type": "subslide"
    }
   },
   "outputs": [
    {
     "name": "stdout",
     "output_type": "stream",
     "text": [
      "stitch님, 회원가입이 완료되었습니다.\n"
     ]
    }
   ],
   "source": [
    "# 사용자 정보를 dictionary로 만들어 넘겨보세요.\n",
    "my_account = {\n",
    "    'username':'stitch',\n",
    "    'password':'lilo',\n",
    "    'password_confirmation':'lilo'\n",
    "}\n",
    "user(**my_account)"
   ]
  },
  {
   "cell_type": "code",
   "execution_count": 32,
   "metadata": {
    "scrolled": true
   },
   "outputs": [
    {
     "ename": "SyntaxError",
     "evalue": "positional argument follows keyword argument (<ipython-input-32-aa291b77e493>, line 3)",
     "output_type": "error",
     "traceback": [
      "\u001b[1;36m  File \u001b[1;32m\"<ipython-input-32-aa291b77e493>\"\u001b[1;36m, line \u001b[1;32m3\u001b[0m\n\u001b[1;33m    my_url(key='aa', tagetDt='yyyymmdd', 60)\u001b[0m\n\u001b[1;37m                                        ^\u001b[0m\n\u001b[1;31mSyntaxError\u001b[0m\u001b[1;31m:\u001b[0m positional argument follows keyword argument\n"
     ]
    }
   ],
   "source": [
    "# 함수를 호출해보세요.\n",
    "my_url(20)\n",
    "my_url(key='aa', tagetDt='yyyymmdd', 60)"
   ]
  },
  {
   "cell_type": "markdown",
   "metadata": {
    "slideshow": {
     "slide_type": "slide"
    }
   },
   "source": [
    "## 이름공간 및 스코프(Scope)\n",
    "\n",
    "파이썬에서 사용되는 이름들은 이름공간(namespce)에 저장되어 있습니다.\n",
    "그리고, LEGB Rule을 가지고 있습니다. \n",
    "\n",
    "변수에서 값을 찾을 때 아래와 같은 순서대로 이름을 찾아나갑니다.\n",
    "* `L`ocal scope: 정의된 함수\n",
    "* `E`nclosed scope: 상위 함수 \n",
    "* `G`lobal scope: 함수 밖의 변수 혹은 import된 모듈\n",
    "* `B`uilt-in scope: 파이썬안에 내장되어 있는 함수 또는 속성"
   ]
  },
  {
   "cell_type": "code",
   "execution_count": null,
   "metadata": {
    "slideshow": {
     "slide_type": "subslide"
    }
   },
   "outputs": [],
   "source": [
    "# 따라서 첫시간에 내장함수의 식별자를 사용할 수 없었던 예제에서 오류가 생기는 이유를 확인할 수 있습니다."
   ]
  },
  {
   "cell_type": "code",
   "execution_count": null,
   "metadata": {},
   "outputs": [],
   "source": []
  },
  {
   "cell_type": "markdown",
   "metadata": {
    "slideshow": {
     "slide_type": "-"
    }
   },
   "source": [
    "* `str()` 코드가 실행되면\n",
    "* str을 Global scope에서 먼저 찾아서 `str = 4`를 가져오고, \n",
    "* 이는 함수가 아니라 변수이기 때문에 `not callable`하다라는 오류를 내뱉게 됩니다.\n",
    "* 우리가 원하는 `str()`은 Built-in scope에 있기 때문입니다."
   ]
  },
  {
   "cell_type": "code",
   "execution_count": null,
   "metadata": {
    "slideshow": {
     "slide_type": "subslide"
    }
   },
   "outputs": [],
   "source": [
    "# 프린트 하는 함수를 만들어서 자세히 확인해봅시다."
   ]
  },
  {
   "cell_type": "code",
   "execution_count": null,
   "metadata": {
    "slideshow": {
     "slide_type": "subslide"
    }
   },
   "outputs": [],
   "source": [
    "# 전역 변수를 바꿀 수 있을 까요?"
   ]
  },
  {
   "cell_type": "code",
   "execution_count": null,
   "metadata": {
    "slideshow": {
     "slide_type": "subslide"
    }
   },
   "outputs": [],
   "source": [
    "# 굳이 전역에 있는 변수를 바꾸고 싶다면, 아래와 같이 선언할 수 있습니다. 단, 사용하지마세요 "
   ]
  },
  {
   "cell_type": "code",
   "execution_count": null,
   "metadata": {
    "slideshow": {
     "slide_type": "subslide"
    }
   },
   "outputs": [],
   "source": [
    "# scope youtube embed\n",
    "# from IPython.display import YouTubeVideo\n",
    "YouTubeVideo('yH_1vwnp3ZQ', width='100%')"
   ]
  },
  {
   "cell_type": "markdown",
   "metadata": {
    "slideshow": {
     "slide_type": "subslide"
    }
   },
   "source": [
    "이름공간은 각자의 수명주기가 있습니다.\n",
    "\n",
    "* built-in scope : 파이썬이 실행된 이후부터 끝까지 \n",
    "\n",
    "* Global scope : 모듈이 호출된 시점 이후 혹은 이름 선언된 이후부터 끝까지\n",
    "\n",
    "* Local/Enclosed scope : 함수가 실행된 시점 이후부터 리턴할때 까지"
   ]
  }
 ],
 "metadata": {
  "kernelspec": {
   "display_name": "Python 3",
   "language": "python",
   "name": "python3"
  },
  "language_info": {
   "codemirror_mode": {
    "name": "ipython",
    "version": 3
   },
   "file_extension": ".py",
   "mimetype": "text/x-python",
   "name": "python",
   "nbconvert_exporter": "python",
   "pygments_lexer": "ipython3",
   "version": "3.6.7"
  },
  "toc": {
   "base_numbering": 1,
   "nav_menu": {},
   "number_sections": true,
   "sideBar": true,
   "skip_h1_title": false,
   "title_cell": "Table of Contents",
   "title_sidebar": "Contents",
   "toc_cell": false,
   "toc_position": {},
   "toc_section_display": true,
   "toc_window_display": false
  }
 },
 "nbformat": 4,
 "nbformat_minor": 2
}
