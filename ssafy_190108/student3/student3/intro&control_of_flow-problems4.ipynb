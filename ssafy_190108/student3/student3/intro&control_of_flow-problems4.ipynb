{
 "cells": [
  {
   "cell_type": "markdown",
   "metadata": {},
   "source": [
    "## Intro&Control_of_flow-문제4\n"
   ]
  },
  {
   "cell_type": "markdown",
   "metadata": {},
   "source": [
    "### 문제1\n",
    "\n",
    ">문자열 요소로만 이루어진 리스트에서 문자열 길이가 2 이상이고 주어진 문자열의 첫번째와 마지막 문자가 같은 요소를 모아 새로운 리스트를 만들고 해당 리스트 요소의 개수를 구하세요.\n",
    "\n",
    ">samples = ['level', 'asdwe', 's', 'abceda', 'gsdwrtfg'] -> 결과값: 3 \n"
   ]
  },
  {
   "cell_type": "code",
   "execution_count": 1,
   "metadata": {},
   "outputs": [
    {
     "name": "stdout",
     "output_type": "stream",
     "text": [
      "3\n"
     ]
    }
   ],
   "source": [
    "#여기에 코드를 작성하세요.\n",
    "\n",
    "samples = ['level', 'asdwe', 's', 'abceda', 'gsdwrtfg']\n",
    "\n",
    "result = []\n",
    "\n",
    "for sp in samples:\n",
    "    if (len(sp)>=2):\n",
    "        if(sp[0]==sp[len(sp)-1]):\n",
    "            result.append(sp)\n",
    "            \n",
    "print(len(result))\n"
   ]
  },
  {
   "cell_type": "markdown",
   "metadata": {},
   "source": [
    "### 문제2\n",
    "\n",
    ">다음 리스트에서 중복된 요소를 제거한 리스트를 출력하세요. \n",
    "\n",
    ">items = [10,20,40,20,10,30,50,60,40,80,50,40,20,30,10] "
   ]
  },
  {
   "cell_type": "code",
   "execution_count": 2,
   "metadata": {},
   "outputs": [
    {
     "name": "stdout",
     "output_type": "stream",
     "text": [
      "[40, 10, 80, 50, 20, 60, 30]\n"
     ]
    }
   ],
   "source": [
    "#여기에 코드를 작성하세요.\n",
    "\n",
    "items = [10,20,40,20,10,30,50,60,40,80,50,40,20,30,10]\n",
    "\n",
    "print(list(set(items)))"
   ]
  },
  {
   "cell_type": "markdown",
   "metadata": {},
   "source": [
    "### 문제3\n",
    "\n",
    ">다음 리스트에서 0번째 4번째 5번째 요소를 지운 새로운 리스트를 생성하세요.\n",
    "\n",
    ">colors = ['Apple', 'Banana', 'Coconut', 'Deli', 'Ele', 'Grape']"
   ]
  },
  {
   "cell_type": "code",
   "execution_count": 13,
   "metadata": {},
   "outputs": [
    {
     "name": "stdout",
     "output_type": "stream",
     "text": [
      "['Banana', 'Coconut', 'Deli']\n"
     ]
    }
   ],
   "source": [
    "#여기에 코드를 작성하세요\n",
    "\n",
    "colors = ['Apple', 'Banana', 'Coconut', 'Deli', 'Ele', 'Grape']\n",
    "\n",
    "new_colors = []\n",
    "deleteindex = [0, 4, 5]\n",
    "\n",
    "for i in range(len(colors)):\n",
    "    if (i in deleteindex):\n",
    "        continue\n",
    "    else:\n",
    "        new_colors.append(colors[i])\n",
    "        \n",
    "print(new_colors)"
   ]
  },
  {
   "cell_type": "markdown",
   "metadata": {},
   "source": [
    "### 문제4\n",
    "\n",
    "> 세 정수 A, B, C가 입력값으로 주어질 때, 두 번째로 큰 정수를 출력하는 프로그램을 작성하세요. "
   ]
  },
  {
   "cell_type": "code",
   "execution_count": 6,
   "metadata": {},
   "outputs": [
    {
     "name": "stdout",
     "output_type": "stream",
     "text": [
      "세 정수를 입력하세요. ex) 20 12 32\n",
      "20 12 32\n",
      "두 번째로 큰 정수: 20\n"
     ]
    }
   ],
   "source": [
    "#여기에 코드를 작성하세요.\n",
    "\n",
    "A, B, C = map(int, input(\"세 정수를 입력하세요. ex) 20 12 32\\n\").split())\n",
    "\n",
    "li = [A, B, C]\n",
    "\n",
    "for i in li:\n",
    "    if i==max(li) or i==min(li):\n",
    "        continue\n",
    "    else:\n",
    "        print(f\"두 번째로 큰 정수: {i}\")"
   ]
  },
  {
   "cell_type": "markdown",
   "metadata": {},
   "source": [
    "### 문제5\n",
    "\n",
    ">사용자로부터 달러, 엔, 유로, 또는 위안 금액을 입력받은 후 이를 원으로 변환하는 프로그램을 작성하세요. 각 통화별 환율은 다음과 같습니다. (사용자는 100 달러, 1000 엔, 13 유로, 100 위안과 같이 금액과 통화명 사이에 공백을 넣어 입력한다고 가정합니다.)\n",
    "\n"
   ]
  },
  {
   "cell_type": "code",
   "execution_count": null,
   "metadata": {},
   "outputs": [],
   "source": [
    "currency = {\n",
    "    'USD': 1167, 'JPY': 1.096, 'EURO': 1268, 'CNY': 171\n",
    "}"
   ]
  },
  {
   "cell_type": "code",
   "execution_count": 1,
   "metadata": {},
   "outputs": [
    {
     "name": "stdout",
     "output_type": "stream",
     "text": [
      "각 통화별 금액을 입력해주세요. ex) 100 달러, 1000 엔, 13 유로, 100 위안\n",
      "100 달러, 1000 엔, 13 유로, 100 위안\n",
      "\n",
      "100 달러 = 116700 원\n",
      "1000 엔 = 1096.0 원\n",
      "13 유로 = 16484 원\n",
      "100 위안 = 17100 원\n",
      "\n"
     ]
    }
   ],
   "source": [
    "#여기에 코드를 작성하세요.\n",
    "\n",
    "currency = {\n",
    "    'USD': 1167, 'JPY': 1.096, 'EURO': 1268, 'CNY': 171\n",
    "}\n",
    "\n",
    "msg = list(map(str,input(\"각 통화별 금액을 입력해주세요. ex) 100 달러, 1000 엔, 13 유로, 100 위안\\n\").split(', ')))\n",
    "\n",
    "dollar = int(msg[0].split()[0])*currency.get('USD')\n",
    "en = int(msg[1].split()[0])*currency.get('JPY')\n",
    "euro = int(msg[2].split()[0])*currency.get('EURO')\n",
    "wian = int(msg[3].split()[0])*currency.get('CNY')\n",
    "\n",
    "\n",
    "print(f\"\"\"\n",
    "{msg[0]} = {dollar} 원\n",
    "{msg[1]} = {en} 원\n",
    "{msg[2]} = {euro} 원\n",
    "{msg[3]} = {wian} 원\n",
    "\"\"\")\n"
   ]
  }
 ],
 "metadata": {
  "kernelspec": {
   "display_name": "Python 3",
   "language": "python",
   "name": "python3"
  },
  "language_info": {
   "codemirror_mode": {
    "name": "ipython",
    "version": 3
   },
   "file_extension": ".py",
   "mimetype": "text/x-python",
   "name": "python",
   "nbconvert_exporter": "python",
   "pygments_lexer": "ipython3",
   "version": "3.6.7"
  }
 },
 "nbformat": 4,
 "nbformat_minor": 2
}
