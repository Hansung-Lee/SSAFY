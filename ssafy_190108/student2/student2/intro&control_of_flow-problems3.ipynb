{
 "cells": [
  {
   "cell_type": "markdown",
   "metadata": {},
   "source": [
    "## Intro&Control_of_flow-문제3\n"
   ]
  },
  {
   "cell_type": "markdown",
   "metadata": {},
   "source": [
    "### 문제1\n",
    "\n",
    ">다음 소스 코드를 완성하여 1부터 100까지의 숫자를 출력하면서 2의 배수일 때는 'Fizz', 11의 배수일 때는 'Buzz', 2와 11의 공배수일 때는 'FizzBuzz'가 출력되게 만드세요."
   ]
  },
  {
   "cell_type": "code",
   "execution_count": 2,
   "metadata": {},
   "outputs": [
    {
     "name": "stdout",
     "output_type": "stream",
     "text": [
      "1\n",
      "Fizz\n",
      "3\n",
      "Fizz\n",
      "5\n",
      "Fizz\n",
      "7\n",
      "Fizz\n",
      "9\n",
      "Fizz\n",
      "Buzz\n",
      "Fizz\n",
      "13\n",
      "Fizz\n",
      "15\n",
      "Fizz\n",
      "17\n",
      "Fizz\n",
      "19\n",
      "Fizz\n",
      "21\n",
      "FizzBuzz\n",
      "23\n",
      "Fizz\n",
      "25\n",
      "Fizz\n",
      "27\n",
      "Fizz\n",
      "29\n",
      "Fizz\n",
      "31\n",
      "Fizz\n",
      "Buzz\n",
      "Fizz\n",
      "35\n",
      "Fizz\n",
      "37\n",
      "Fizz\n",
      "39\n",
      "Fizz\n",
      "41\n",
      "Fizz\n",
      "43\n",
      "FizzBuzz\n",
      "45\n",
      "Fizz\n",
      "47\n",
      "Fizz\n",
      "49\n",
      "Fizz\n",
      "51\n",
      "Fizz\n",
      "53\n",
      "Fizz\n",
      "Buzz\n",
      "Fizz\n",
      "57\n",
      "Fizz\n",
      "59\n",
      "Fizz\n",
      "61\n",
      "Fizz\n",
      "63\n",
      "Fizz\n",
      "65\n",
      "FizzBuzz\n",
      "67\n",
      "Fizz\n",
      "69\n",
      "Fizz\n",
      "71\n",
      "Fizz\n",
      "73\n",
      "Fizz\n",
      "75\n",
      "Fizz\n",
      "Buzz\n",
      "Fizz\n",
      "79\n",
      "Fizz\n",
      "81\n",
      "Fizz\n",
      "83\n",
      "Fizz\n",
      "85\n",
      "Fizz\n",
      "87\n",
      "FizzBuzz\n",
      "89\n",
      "Fizz\n",
      "91\n",
      "Fizz\n",
      "93\n",
      "Fizz\n",
      "95\n",
      "Fizz\n",
      "97\n",
      "Fizz\n",
      "Buzz\n",
      "Fizz\n"
     ]
    }
   ],
   "source": [
    "#여기에 코드를 작성하세요.\n",
    "\n",
    "for i in range(1,101):\n",
    "    if(i%2==0 and i%11==0):\n",
    "        print('FizzBuzz')\n",
    "    elif (i%2==0):\n",
    "        print('Fizz')\n",
    "    elif(i%11==0):\n",
    "        print('Buzz')\n",
    "    else:\n",
    "        print(i)\n"
   ]
  },
  {
   "cell_type": "markdown",
   "metadata": {},
   "source": [
    "### 문제2\n",
    "\n",
    ">사용자로부터 세 개의 숫자를 입력 받은 후 가장 큰 숫자를 출력하세요."
   ]
  },
  {
   "cell_type": "code",
   "execution_count": 6,
   "metadata": {},
   "outputs": [
    {
     "name": "stdout",
     "output_type": "stream",
     "text": [
      "세 개의 숫자를 입력하세요. ex) 20 12 32\n",
      "21 22 2\n",
      "가장 큰 수: 22\n"
     ]
    }
   ],
   "source": [
    "#여기에 코드를 작성하세요.\n",
    "a, b, c = map(int, input(\"세 개의 숫자를 입력하세요. ex) 20 12 32\\n\").split())\n",
    "\n",
    "print (\"가장 큰 수: {}\".format(max(a,b,c)))"
   ]
  },
  {
   "cell_type": "markdown",
   "metadata": {},
   "source": [
    "### 문제3\n",
    "\n",
    "> 다음은 학생들의 혈액형(A, B, AB, O)에 대한 데이터입니다. 각 혈액형 별 학생수의 합계를 구하세요."
   ]
  },
  {
   "cell_type": "code",
   "execution_count": null,
   "metadata": {},
   "outputs": [],
   "source": [
    "blood_types = ['A', 'B', 'A', 'O', 'AB', 'AB', 'O', 'A', 'B', 'O', 'B', 'AB']"
   ]
  },
  {
   "cell_type": "code",
   "execution_count": 20,
   "metadata": {},
   "outputs": [
    {
     "name": "stdout",
     "output_type": "stream",
     "text": [
      "\n",
      "A형인 학생수의 합계 : 3\n",
      "B형인 학생수의 합계 : 3\n",
      "O형인 학생수의 합계 : 3\n",
      "AB형인 학생수의 합계 : 3\n",
      "\n",
      "{'A': 3, 'B': 3, 'O': 3, 'AB': 3}\n"
     ]
    }
   ],
   "source": [
    "#여기에 코드를 작성하세요.\n",
    "blood_types = ['A', 'B', 'A', 'O', 'AB', 'AB', 'O', 'A', 'B', 'O', 'B', 'AB']\n",
    "\n",
    "check_blood = [0,0,0,0] # 순서대로 A, B, O, AB\n",
    "\n",
    "for bt in blood_types:\n",
    "    if (bt == 'A'):\n",
    "        check_blood[0]+=1\n",
    "    elif(bt == 'B'):\n",
    "        check_blood[1]+=1\n",
    "    elif(bt == 'O'):\n",
    "        check_blood[2]+=1\n",
    "    elif(bt == 'AB'):\n",
    "        check_blood[3]+=1\n",
    "    \n",
    "print (f\"\"\"\n",
    "A형인 학생수의 합계 : {check_blood[0]}\n",
    "B형인 학생수의 합계 : {check_blood[1]}\n",
    "O형인 학생수의 합계 : {check_blood[2]}\n",
    "AB형인 학생수의 합계 : {check_blood[3]}\n",
    "\"\"\")\n",
    "\n",
    "\n",
    "result = {\n",
    "    'A': blood_types.count('A'),\n",
    "    'B': blood_types.count('B'),\n",
    "    'O': blood_types.count('O'),\n",
    "    'AB': blood_types.count('AB'),\n",
    "}\n",
    "\n",
    "print (result)"
   ]
  },
  {
   "cell_type": "markdown",
   "metadata": {},
   "source": [
    "### 문제4\n",
    "\n",
    ">다음 리스트의 요소값 중에서 중복되는 값만 뽑아서 새로운 리스트로 옮기고 요소의 개수를 출력하세요. \n",
    "\n",
    ">some_lists = ['a', 'b', 'c', 'b', 'd', 'm', 'n', 'n']"
   ]
  },
  {
   "cell_type": "code",
   "execution_count": 10,
   "metadata": {},
   "outputs": [
    {
     "name": "stdout",
     "output_type": "stream",
     "text": [
      "중복되는 요소의 개수: 2\n"
     ]
    }
   ],
   "source": [
    "#여기에 코드를 작성하세요.\n",
    "\n",
    "some_lists = ['a', 'b', 'c', 'b', 'd', 'm', 'n', 'n']\n",
    "\n",
    "new_lists = []\n",
    "\n",
    "for sl in some_lists:\n",
    "    if (some_lists.count(sl)>1):\n",
    "        new_lists.append(sl)\n",
    "        \n",
    "print(f\"중복되는 요소의 개수: {len(set(new_lists))}\")"
   ]
  },
  {
   "cell_type": "markdown",
   "metadata": {},
   "source": [
    "### 문제5\n",
    "\n",
    ">표준 입력으로 국어, 영어, 수학, 과학 점수가 입력됩니다. 네 과목의 평균 점수가 80점 이상일 때 합격이라고 정했습니다. 평균 점수에 따라 '합격', '불합격'을 출력하는 프로그램을 만드세요. \n",
    "단, 점수는 0점부터 100점까지만 입력받을 수 있으며 범위를 벗어났다면 '잘못된 점수'를 출력하고 합격, 불합격 여부는 출력하지 않아야 합니다. "
   ]
  },
  {
   "cell_type": "code",
   "execution_count": 17,
   "metadata": {},
   "outputs": [
    {
     "name": "stdout",
     "output_type": "stream",
     "text": [
      "국어 점수를 입력하세요.70\n",
      "영어 점수를 입력하세요.1010010\n",
      "수학 점수를 입력하세요.08\n",
      "과학 점수를 입력하세요.90\n",
      "잘못된 점수\n"
     ]
    }
   ],
   "source": [
    "#여기에 코드를 작성하세요.\n",
    "\n",
    "korean = int(input(\"국어 점수를 입력하세요.\"))\n",
    "english = int(input(\"영어 점수를 입력하세요.\"))\n",
    "math = int(input(\"수학 점수를 입력하세요.\"))\n",
    "science = int(input(\"과학 점수를 입력하세요.\"))\n",
    "\n",
    "if(0>korean or 0>english or 0>math or 0>science or korean>100 or english>100 or math>100 or science>100):\n",
    "    print('잘못된 점수')\n",
    "\n",
    "else:\n",
    "    sum1 = korean + english + math + science\n",
    "    avg1 = sum1/4\n",
    "    \n",
    "    if(avg1>=80):\n",
    "        print('합격') \n",
    "    else:\n",
    "        print('불합격')\n"
   ]
  }
 ],
 "metadata": {
  "kernelspec": {
   "display_name": "Python 3",
   "language": "python",
   "name": "python3"
  },
  "language_info": {
   "codemirror_mode": {
    "name": "ipython",
    "version": 3
   },
   "file_extension": ".py",
   "mimetype": "text/x-python",
   "name": "python",
   "nbconvert_exporter": "python",
   "pygments_lexer": "ipython3",
   "version": "3.6.7"
  }
 },
 "nbformat": 4,
 "nbformat_minor": 2
}
