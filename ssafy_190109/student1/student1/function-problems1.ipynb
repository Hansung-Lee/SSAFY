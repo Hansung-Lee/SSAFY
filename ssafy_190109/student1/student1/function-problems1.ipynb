{
 "cells": [
  {
   "cell_type": "markdown",
   "metadata": {},
   "source": [
    "## Function-Problems1"
   ]
  },
  {
   "cell_type": "markdown",
   "metadata": {},
   "source": [
    "### 문제1\n",
    "\n",
    "> 다음 리스트의 합계, 평균, 분산을 구하는 함수를 만드세요\n",
    "\n",
    "> grades = [100, 100, 90, 40, 80, 100, 85, 70, 90, 65, 90, 85, 50.5, 62.5]\n",
    "\n",
    "\n",
    "\n"
   ]
  },
  {
   "cell_type": "code",
   "execution_count": null,
   "metadata": {},
   "outputs": [],
   "source": [
    "#여기에 코드를 작성하세요\n",
    "grades = [100, 100, 90, 40, 80, 100, 85, 70, 90, 65, 90, 85, 50.5, 62.5]\n",
    "\n",
    "#합계\n",
    "\n",
    "\n",
    "\n",
    "\n",
    "#평균\n",
    "\n",
    "\n",
    "\n",
    "\n",
    "#분산\n",
    "\n",
    "\n"
   ]
  },
  {
   "cell_type": "markdown",
   "metadata": {},
   "source": [
    "### 문제2\n",
    "\n",
    "\n",
    "> 함수는 다음과 같은 4가지의 경우로 나눠서 생각할 수 있습니다.\n",
    "- 입력/리턴값이 모두 있는 경우\n",
    "- 입력값만 있는 경우\n",
    "- 리턴값만 있는 경우\n",
    "- 입력/리턴값이 모두 없는 경우\n",
    "\n",
    ">위의 4가지 경우의 예시를 각각 작성해보세요."
   ]
  },
  {
   "cell_type": "code",
   "execution_count": 2,
   "metadata": {},
   "outputs": [],
   "source": [
    "#여기에 코드를 작성하세요\n",
    "\n",
    "# 1: \n",
    "\n",
    "\n",
    "\n",
    "# 2: \n",
    "\n",
    "\n",
    "\n",
    "# 3: \n",
    "\n",
    "\n",
    "\n",
    "\n",
    "# 4:\n",
    "\n"
   ]
  },
  {
   "cell_type": "markdown",
   "metadata": {},
   "source": [
    "### 문제3\n",
    "\n",
    ">A 씨는 게시판 프로그램을 작성하고 있습니다. 게시물의 총 건수와 페이지에 보여줄 게시물 수를 입력으로 주었을 때  총 페이지수를 출력하는 프로그램이 필요합니다. A씨를 위한 게시판 페이징을 해주세요.\n",
    "\n",
    "> 페이징: 게시판 페이지수를 보여주는 것 \n",
    "- 총 페이지수 = 총 건수 / 한 페이지당 보여줄 건수 + 1"
   ]
  },
  {
   "cell_type": "code",
   "execution_count": null,
   "metadata": {},
   "outputs": [],
   "source": [
    "# 여기에 코드를 작성하세요\n"
   ]
  },
  {
   "cell_type": "markdown",
   "metadata": {},
   "source": [
    "### 문제4\n",
    "\n",
    ">다음 중 가장 높은 점수가 출력되도록 만들어주세요.\n",
    "\n",
    "> korean, english, mathematics, science = 100, 86, 81, 91"
   ]
  },
  {
   "cell_type": "code",
   "execution_count": null,
   "metadata": {},
   "outputs": [],
   "source": [
    "# 여기에 코드를 작성하세요\n",
    "\n"
   ]
  },
  {
   "cell_type": "markdown",
   "metadata": {},
   "source": [
    "### 문제5\n",
    "\n",
    ">길이가 n이고, \"수박수박수박수...\"와 같은 패턴을 유지하는 문자열을 리턴하는 함수, solution을 완성하세요. \n",
    "\n",
    "> 예를들어 n이 4이면 \"수박수박\"을 리턴하고 3이라면 \"수박수\"를 리턴하면 됩니다."
   ]
  },
  {
   "cell_type": "code",
   "execution_count": null,
   "metadata": {},
   "outputs": [],
   "source": [
    "#여기에 코드를 작성하세요.\n",
    "\n"
   ]
  }
 ],
 "metadata": {
  "kernelspec": {
   "display_name": "Python 3",
   "language": "python",
   "name": "python3"
  },
  "language_info": {
   "codemirror_mode": {
    "name": "ipython",
    "version": 3
   },
   "file_extension": ".py",
   "mimetype": "text/x-python",
   "name": "python",
   "nbconvert_exporter": "python",
   "pygments_lexer": "ipython3",
   "version": "3.6.1"
  }
 },
 "nbformat": 4,
 "nbformat_minor": 2
}
