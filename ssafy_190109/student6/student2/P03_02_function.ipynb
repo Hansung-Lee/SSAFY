{
 "cells": [
  {
   "cell_type": "markdown",
   "metadata": {},
   "source": [
    "# 종합소득세 계산하기\n",
    "\n",
    "> A라는 나라에서는 종합소득세는 과세표준 금액 구간에 따라 다른 세율이 적용됩니다.\n",
    "\n",
    "|과세표준액|세율|\n",
    "|-------|---|\n",
    "|1,200이하|6%|\n",
    "|1,200 ~ 4,600|15%|\n",
    "|4,600 ~ |35%|\n",
    "\n",
    "즉, 1,300원을 벌었을 경우 `1,200\\*0.06 + 100\\*0.15`를 계산한 결과가 납부해야 하는 세액입니다.\n",
    "\n",
    "함수 `tax(won)`을 만들고 납부해야하는 세금의 결과를 반환하는 함수를 만들어보세요.\n",
    "\n",
    "---\n",
    "```\n",
    "예시)\n",
    "tax(1200) #=> 72.0\n",
    "tax(4600) #=> 582.0\n",
    "tax(5000) #=> 722.0\n",
    "```"
   ]
  },
  {
   "cell_type": "code",
   "execution_count": 20,
   "metadata": {},
   "outputs": [],
   "source": [
    "# 여기에 코드를 작성하세요.\n",
    "def tax(num):\n",
    "    if num<=1200:\n",
    "        return num*0.06\n",
    "    elif num<4600:\n",
    "        return 1200*0.06 + (num-1200)*0.15\n",
    "    else:\n",
    "        return 1200*0.06 + 3400*0.15 + (num-4600)*0.35"
   ]
  },
  {
   "cell_type": "code",
   "execution_count": 21,
   "metadata": {},
   "outputs": [
    {
     "name": "stdout",
     "output_type": "stream",
     "text": [
      "72.0\n",
      "582.0\n",
      "722.0\n"
     ]
    }
   ],
   "source": [
    "print(tax(1200))\n",
    "print(tax(4600))\n",
    "print(tax(5000))"
   ]
  },
  {
   "cell_type": "markdown",
   "metadata": {},
   "source": [
    "# 카쉐어링 요금 계산하기\n",
    "\n",
    "> 카쉐어링 서비스는 요금을 다음과 같이 계산합니다.\n",
    ">\n",
    "> 대여는 10분 단위로 가능합니다.\n",
    "> \n",
    "> 1. 대여 요금 : 10분당 1,200원\n",
    ">\n",
    "> 2. 보험료 : 30분당 525원 (50분을 빌리면, 1시간으로 계산됩니다.)\n",
    ">\n",
    "> 3. 주행 요금 : km당 170원 (주행 요금은 100km가 넘어가면, 넘어간 부분에 대하여 할인이 50% 적용됩니다.)\n",
    ">\n",
    "> 예) 160km를 달렸으면, 170\\*100 + 85 \\*60\n",
    ">\n",
    "> 양의 정수인 대여시간(분)과 주행거리를 받아 계산 결과를 반환하는 함수 `fee(minute, distance)`를 만들어보세요.\n",
    "---\n",
    "```\n",
    "예시) \n",
    "    fee(600, 50) #=> 91000\n",
    "    fee(600, 110) #=> 100350\n",
    "```"
   ]
  },
  {
   "cell_type": "code",
   "execution_count": 5,
   "metadata": {},
   "outputs": [],
   "source": [
    "# 여기에 코드를 작성하세요.\n",
    "import math\n",
    "\n",
    "def fee(minute, distance):\n",
    "    if distance<=100:\n",
    "        return int(math.ceil(minute//10)*1200 + math.ceil(minute//30)*525 + distance*170)\n",
    "    else:\n",
    "        return int(math.ceil(minute//10)*1200 + math.ceil(minute//30)*525 + 100*170 + (distance-100)*(170/2))"
   ]
  },
  {
   "cell_type": "code",
   "execution_count": 6,
   "metadata": {},
   "outputs": [
    {
     "name": "stdout",
     "output_type": "stream",
     "text": [
      "91000\n",
      "100350\n"
     ]
    }
   ],
   "source": [
    "print(fee(600, 50))\n",
    "print(fee(600, 110))"
   ]
  },
  {
   "cell_type": "markdown",
   "metadata": {},
   "source": [
    "\n",
    "# 이상한 덧셈\n",
    "\n",
    "> 숫자 구성된 리스트에서 양의 정수의 합을 구하는 함수 `positive_sum`을 작성하세요.\n",
    "\n",
    "예시)\n",
    "\n",
    "```python\n",
    "positive_sum([1,-4,7,12]) #=> 20\n",
    "positive_sum([-1, -2, -3, -4]) #=> 0\n",
    "```"
   ]
  },
  {
   "cell_type": "code",
   "execution_count": 7,
   "metadata": {},
   "outputs": [],
   "source": [
    "# 여기에 코드를 작성하세요.\n",
    "def positive_sum(li):\n",
    "    result = 0\n",
    "    for l in li:\n",
    "        if l>0:\n",
    "            result += l\n",
    "    return result"
   ]
  },
  {
   "cell_type": "code",
   "execution_count": 8,
   "metadata": {},
   "outputs": [
    {
     "name": "stdout",
     "output_type": "stream",
     "text": [
      "20\n",
      "0\n"
     ]
    }
   ],
   "source": [
    "# 해당 코드를 통해 20과 0이 나오는지 확인하세요.\n",
    "print(positive_sum([1,-4,7,12]))\n",
    "print(positive_sum([-1, -2, -3, -4]))"
   ]
  },
  {
   "cell_type": "markdown",
   "metadata": {},
   "source": [
    "# Collatz\n",
    "\n",
    "> 1937년 Collatz란 사람에 의해 제기된 이 추측은, 주어진 수가 1이 될때까지 다음 작업을 반복하면, 모든 수를 1로 만들 수 있다는 추측입니다. 작업은 다음과 같습니다.\n",
    ">\n",
    "> 1. 입력된 수가 짝수라면 2로 나눕니다. \n",
    "> 2. 입력된 수가 홀수라면 3을 곱하고 1을 더합니다.\n",
    "> 3. 결과로 나온 수에 같은 작업을 1이 될 때까지 반복합니다.\n",
    ">\n",
    "> 예를 들어, 입력된 수가 6이라면 6→3→10→5→16→8→4→2→1 이 되어 총 8번 만에 1이 됩니다.\n",
    ">\n",
    "> 위 작업을 몇 번이나 반복해야하는지 반환하는 함수, collatz를 완성해 주세요.\n",
    ">\n",
    "> 단, 작업을 500번을 반복해도 1이 되지 않는다면 –1을 반환해 주세요.\n",
    "\n",
    "예시)\n",
    "\n",
    "```python\n",
    "collatz(6) #=> 8\n",
    "collatz(16) #=> 4\n",
    "collatz(27) #=> 111\n",
    "collatz(626331) #=> -1\n",
    "```"
   ]
  },
  {
   "cell_type": "code",
   "execution_count": 11,
   "metadata": {},
   "outputs": [],
   "source": [
    "# 여기에 코드를 작성하세요.\n",
    "def collatz(num):\n",
    "    cnt=0\n",
    "    while(num!=1 or cnt==500):\n",
    "        if (num%2==0):\n",
    "            num = num/2\n",
    "        else:\n",
    "            num = (num*3)+1\n",
    "        cnt+=1\n",
    "        \n",
    "    if cnt<500:\n",
    "        return cnt\n",
    "    else:\n",
    "        return -1"
   ]
  },
  {
   "cell_type": "code",
   "execution_count": 12,
   "metadata": {},
   "outputs": [
    {
     "name": "stdout",
     "output_type": "stream",
     "text": [
      "8\n",
      "4\n",
      "111\n",
      "-1\n"
     ]
    }
   ],
   "source": [
    "# 해당 코드를 통해 8, 4, 111, -1 이 나오는지 확인하세요.\n",
    "print(collatz(6))\n",
    "print(collatz(16))\n",
    "print(collatz(27))\n",
    "print(collatz(626331))"
   ]
  },
  {
   "cell_type": "markdown",
   "metadata": {},
   "source": [
    "# 솔로 천국 만들기\n",
    "\n",
    "> 리스트가 주어집니다. 리스트의 각 요소는 숫자 0부터 9까지로 이루어져 있습니다. \n",
    ">\n",
    "> 이때, 리스트에서 연속적으로 나타나는 숫자는 하나만 남기고 전부 제거하려고 합니다. \n",
    ">\n",
    "> 리스트에서 연속적으로 나타나는 숫자는 제거하고 남은 수들을 반환하는 lonely 함수를 작성해 주세요.\n",
    ">\n",
    "> 단, 제거된 후 남은 수들을 반환할 때는 리스트의 요소들의 순서를 유지해야 합니다.  \n",
    "\n",
    "예시)\n",
    "\n",
    "```python\n",
    "lonely([1, 1, 3, 3, 0, 1, 1]) #=> [1, 3, 0, 1]\n",
    "lonely([4,4,4,3,3]) #=> [4,3]\n",
    "```\n"
   ]
  },
  {
   "cell_type": "code",
   "execution_count": 15,
   "metadata": {},
   "outputs": [],
   "source": [
    "# 여기에 코드를 작성하세요.\n",
    "def lonely(li):\n",
    "    new_li = [li[0]]\n",
    "    \n",
    "    for l in li:\n",
    "        if l==new_li[-1]:\n",
    "            pass\n",
    "        else:\n",
    "            new_li.append(l)\n",
    "    return new_li"
   ]
  },
  {
   "cell_type": "code",
   "execution_count": 16,
   "metadata": {},
   "outputs": [
    {
     "name": "stdout",
     "output_type": "stream",
     "text": [
      "[1, 3, 0, 1]\n",
      "[4, 3]\n"
     ]
    }
   ],
   "source": [
    "# 해당 코드를 통해 [1, 3, 0, 1]과 [4, 3]이 나오는지 확인하세요.\n",
    "print(lonely([1, 1, 3, 3, 0, 1, 1]))\n",
    "print(lonely([4,4,4,3,3]))"
   ]
  }
 ],
 "metadata": {
  "kernelspec": {
   "display_name": "Python 3",
   "language": "python",
   "name": "python3"
  },
  "language_info": {
   "codemirror_mode": {
    "name": "ipython",
    "version": 3
   },
   "file_extension": ".py",
   "mimetype": "text/x-python",
   "name": "python",
   "nbconvert_exporter": "python",
   "pygments_lexer": "ipython3",
   "version": "3.6.7"
  },
  "latex_envs": {
   "LaTeX_envs_menu_present": true,
   "autoclose": false,
   "autocomplete": true,
   "bibliofile": "biblio.bib",
   "cite_by": "apalike",
   "current_citInitial": 1,
   "eqLabelWithNumbers": true,
   "eqNumInitial": 1,
   "hotkeys": {
    "equation": "Ctrl-E",
    "itemize": "Ctrl-I"
   },
   "labels_anchors": false,
   "latex_user_defs": false,
   "report_style_numbering": false,
   "user_envs_cfg": false
  },
  "toc": {
   "base_numbering": 1,
   "nav_menu": {},
   "number_sections": true,
   "sideBar": true,
   "skip_h1_title": false,
   "title_cell": "Table of Contents",
   "title_sidebar": "Contents",
   "toc_cell": false,
   "toc_position": {},
   "toc_section_display": true,
   "toc_window_display": false
  }
 },
 "nbformat": 4,
 "nbformat_minor": 2
}
